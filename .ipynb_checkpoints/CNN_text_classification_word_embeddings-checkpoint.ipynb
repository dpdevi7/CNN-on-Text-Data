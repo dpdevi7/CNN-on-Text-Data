{
 "cells": [
  {
   "cell_type": "code",
   "execution_count": null,
   "metadata": {
    "colab": {
     "base_uri": "https://localhost:8080/"
    },
    "id": "0IGfYblhVZor",
    "outputId": "493dea03-a67c-4af6-f763-79ab6c2a9478"
   },
   "outputs": [
    {
     "name": "stdout",
     "output_type": "stream",
     "text": [
      "Drive already mounted at /content/gdrive; to attempt to forcibly remount, call drive.mount(\"/content/gdrive\", force_remount=True).\n"
     ]
    }
   ],
   "source": [
    "from google.colab import drive \n",
    "drive.mount('/content/gdrive')"
   ]
  },
  {
   "cell_type": "code",
   "execution_count": null,
   "metadata": {
    "colab": {
     "base_uri": "https://localhost:8080/"
    },
    "id": "_NfEUjn9SE7j",
    "outputId": "3cf3d1cc-eb97-4512-bc89-015fde9342c3"
   },
   "outputs": [
    {
     "name": "stdout",
     "output_type": "stream",
     "text": [
      "The tensorboard extension is already loaded. To reload it, use:\n",
      "  %reload_ext tensorboard\n"
     ]
    }
   ],
   "source": [
    "import copy\n",
    "import nltk\n",
    "from sklearn import preprocessing\n",
    "from keras.utils import plot_model\n",
    "import tensorflow as tf\n",
    "import pandas as pd\n",
    "import numpy as np\n",
    "from tensorflow import keras\n",
    "from itertools import islice\n",
    "import os\n",
    "import regex as re\n",
    "import nltk \n",
    "from nltk import word_tokenize, pos_tag, ne_chunk\n",
    "from nltk.chunk import tree2conlltags\n",
    "from nltk.tokenize.treebank import TreebankWordDetokenizer\n",
    "from sklearn.model_selection import train_test_split\n",
    "from tensorflow.keras.preprocessing.sequence import pad_sequences\n",
    "from tensorflow.keras.preprocessing.text import Tokenizer\n",
    "from tensorflow.keras import Input\n",
    "from keras.layers import concatenate, Input, Lambda, Dense, Flatten, Conv1D, Conv3D, Conv2D, Activation, MaxPooling2D, Dropout, MaxPool1D, MaxPool2D, Embedding\n",
    "from keras import optimizers\n",
    "from keras.models import Model\n",
    "import matplotlib.pyplot as plt\n",
    "import tensorflow.keras.backend as K\n",
    "from termcolor import colored\n",
    "from tensorflow.keras.callbacks import ReduceLROnPlateau\n",
    "import datetime\n",
    "import tensorboard\n",
    "import os\n",
    "from sklearn.preprocessing import OneHotEncoder\n",
    "%load_ext tensorboard\n",
    "!rm -rf ./logs/ \n"
   ]
  },
  {
   "cell_type": "code",
   "execution_count": null,
   "metadata": {
    "colab": {
     "base_uri": "https://localhost:8080/"
    },
    "id": "NHlzTDtxExeH",
    "outputId": "c566e281-85a0-4156-d33b-845903b793ca"
   },
   "outputs": [
    {
     "name": "stdout",
     "output_type": "stream",
     "text": [
      "[nltk_data] Downloading package punkt to /root/nltk_data...\n",
      "[nltk_data]   Package punkt is already up-to-date!\n",
      "[nltk_data] Downloading package averaged_perceptron_tagger to\n",
      "[nltk_data]     /root/nltk_data...\n",
      "[nltk_data]   Package averaged_perceptron_tagger is already up-to-\n",
      "[nltk_data]       date!\n",
      "[nltk_data] Downloading package maxent_ne_chunker to\n",
      "[nltk_data]     /root/nltk_data...\n",
      "[nltk_data]   Package maxent_ne_chunker is already up-to-date!\n",
      "[nltk_data] Downloading package words to /root/nltk_data...\n",
      "[nltk_data]   Package words is already up-to-date!\n"
     ]
    },
    {
     "data": {
      "text/plain": [
       "True"
      ]
     },
     "execution_count": 45,
     "metadata": {
      "tags": []
     },
     "output_type": "execute_result"
    }
   ],
   "source": [
    "\n",
    "import nltk\n",
    "nltk.download('punkt')\n",
    "nltk.download('averaged_perceptron_tagger')\n",
    "nltk.download('maxent_ne_chunker')\n",
    "nltk.download('words')"
   ]
  },
  {
   "cell_type": "markdown",
   "metadata": {
    "id": "fyobKUjMSE7z"
   },
   "source": [
    "# Email"
   ]
  },
  {
   "cell_type": "code",
   "execution_count": null,
   "metadata": {
    "id": "JMM-kM94VXpu"
   },
   "outputs": [],
   "source": []
  },
  {
   "cell_type": "code",
   "execution_count": null,
   "metadata": {
    "id": "A598QYzxSE71"
   },
   "outputs": [],
   "source": [
    "def extract_emailid(text):\n",
    "    email_per_line_list = []\n",
    "    emails = re.findall(\"([a-zA-Z0-9_.+-]+@[a-zA-Z0-9-]+\\.[a-zA-Z0-9-.]+)\", text)\n",
    "    for mail in emails:\n",
    "        email_per_line_list.append(mail)\n",
    "        \n",
    "    return email_per_line_list\n",
    "    "
   ]
  },
  {
   "cell_type": "code",
   "execution_count": null,
   "metadata": {
    "id": "npsh5gqlSE8A"
   },
   "outputs": [],
   "source": [
    "def get_emails_from_file(file):\n",
    "    # file = open(os.path.join(path, file))\n",
    "    # file_lines = file.readlines()\n",
    "    with open(path+file, encoding=\"utf8\", errors='ignore') as f:\n",
    "      file_lines = f.readlines()\n",
    "\n",
    "    emails_in_file = []\n",
    "    emails_preprocessed_list = []\n",
    "    emails_preprocessed_string = \"\"\n",
    "    \n",
    "    for line in file_lines:\n",
    "        email_per_line_list = []\n",
    "        emails = re.findall(\"([a-zA-Z0-9_.+-]+@[a-zA-Z0-9-]+\\.[a-zA-Z0-9-.]+)\", line)\n",
    "        for mail in emails:\n",
    "            emails_in_file.append(mail)\n",
    "    \n",
    "    \n",
    "    \n",
    "    for i, email in enumerate(emails_in_file):\n",
    "        email = email.split(\"@\", 1)[1]\n",
    "        email = email.split('.')\n",
    "        for c in email:\n",
    "            if c==\"com\":\n",
    "                email.remove(c)\n",
    "            else:\n",
    "                emails_preprocessed_list.append(c)\n",
    "    \n",
    "    emails_preprocessed_list = list(set(emails_preprocessed_list))\n",
    "    \n",
    "    for c in emails_preprocessed_list:\n",
    "        c.lower()\n",
    "        if c.find('-') != -1:\n",
    "            c = c.replace(\"-\",\"\")\n",
    "        if len(c) > 2:\n",
    "            if len(emails_preprocessed_string) == 0:\n",
    "                emails_preprocessed_string = emails_preprocessed_string + c\n",
    "            else:\n",
    "                emails_preprocessed_string = emails_preprocessed_string + \" \" + c\n",
    "    \n",
    "    \n",
    "    return emails_preprocessed_string, emails_in_file, emails_preprocessed_list\n",
    "            "
   ]
  },
  {
   "cell_type": "markdown",
   "metadata": {
    "id": "UDpnafHVSE8I"
   },
   "source": [
    "# Subject"
   ]
  },
  {
   "cell_type": "code",
   "execution_count": null,
   "metadata": {
    "id": "mJ0ZI0zASE8K"
   },
   "outputs": [],
   "source": [
    "bad_chars = [';', ':', '!', \"*\", \"\\n\", \"\\t\"]\n",
    "\n",
    "def get_subject_from_file(file):\n",
    "\n",
    "    with open(path+file, encoding=\"utf8\", errors='ignore') as f:\n",
    "      file_lines = f.readlines()\n",
    "\n",
    "    # file = open(os.path.join(path, file))\n",
    "    # file_lines = file.readlines()\n",
    "    subject_in_file = []\n",
    "    subject_preprocessed_list = []\n",
    "    subjects_preprocessed_strings = \"\"\n",
    "    \n",
    "    \n",
    "#     line = re.sub(' Re: ',\"\", line)\n",
    "#             line = line.rstrip('\\n')\n",
    "#             line = line.rstrip('\\t')\n",
    "#             line = re.sub(r'[^\\w\\s]', '', line)\n",
    "#             line = ''.join(i for i in line if not i in bad_chars)\n",
    "    \n",
    "    for line in file_lines:\n",
    "        if (line.find('Subject: ')!=-1):\n",
    "            line = line.split('Subject: ')[1]\n",
    "            line = line.rstrip('\\n')\n",
    "            line = line.rstrip('\\t')\n",
    "            line = re.sub(r'[^\\w\\s]', ' ', line)\n",
    "            line = re.sub(' Re ',\"\", line)\n",
    "            line = re.sub(\"  \", \"\", line)\n",
    "            line = ''.join(i for i in line if not i in bad_chars)\n",
    "            line = line.lstrip()\n",
    "            subject_in_file.append(line)\n",
    "            \n",
    "    if len(subject_in_file) == 1:\n",
    "        for i, c in enumerate(subject_in_file):\n",
    "            if i==0 and c==\" \":\n",
    "                continue\n",
    "            elif (i==1 and c==\" \"):\n",
    "                continue\n",
    "            else:\n",
    "                subjects_preprocessed_strings = subjects_preprocessed_strings + c\n",
    "            \n",
    "    if len(subject_in_file) > 1:\n",
    "        for item in subject_in_file:\n",
    "            for i, c in enumerate(item):\n",
    "                if i==0 and c==\" \":\n",
    "                    continue\n",
    "                elif (i==1 and c==\" \"):\n",
    "                    continue\n",
    "                else:\n",
    "                    subjects_preprocessed_strings = subjects_preprocessed_strings + c\n",
    "                \n",
    "    \n",
    "    subjects_preprocessed_strings = re.sub('  ',\"\", subjects_preprocessed_strings)\n",
    "    \n",
    "    \n",
    "    return file, subjects_preprocessed_strings\n",
    "            \n",
    "    "
   ]
  },
  {
   "cell_type": "markdown",
   "metadata": {
    "id": "y7ZGBxEgSE8R"
   },
   "source": [
    "# Text"
   ]
  },
  {
   "cell_type": "code",
   "execution_count": null,
   "metadata": {
    "id": "_ooCBWzTSE8T"
   },
   "outputs": [],
   "source": [
    "\n",
    "bad_chars = [';', ':', '!', \"*\", \"\\n\", \"\\t\", '\\\\','/', \"-\", \"@\", \"#\", \"$\", \"%\", \"^\", \"&\", '\"', '.', ',', ')', '(', '[', ']', '{', '}']\n",
    "\n",
    "\n",
    "\n",
    "# Remove words of len<=2 and >=15\n",
    "def removeWord_with_len(line):\n",
    "    wordList = word_tokenize(line)\n",
    "    \n",
    "    for i, word in enumerate(wordList):\n",
    "        if len(word)<=2:\n",
    "            wordList[i] = \"\"\n",
    "        if len(word)>=15:\n",
    "            wordList[i] = \"\"\n",
    "    new_line = TreebankWordDetokenizer().detokenize(wordList)\n",
    "    return new_line\n",
    "    \n",
    "            \n",
    "\n",
    "# Remove _word, word_, _word_ and keep word2 in word1_word2\n",
    "def remove_word_type(line):\n",
    "    \n",
    "    wordlist = word_tokenize(line)\n",
    "    \n",
    "    for i, word in enumerate(wordlist):\n",
    "        if ((re.search(r\"^_\\w.*_\", word)) or (re.search(r\"^_\\w.*\", word)) or (re.search(r\"^\\w.*_\", word)) ):\n",
    "            wordlist.pop(i)\n",
    "        elif (re.search(r\"^\\w.*_\\w.*\", word)):\n",
    "            \n",
    "            subword_list = word.split(\"_\")\n",
    "            new_word = subword_list[1]\n",
    "            index_of_word = wordlist.index(word)\n",
    "            wordlist[index_of_word] = new_word\n",
    "            \n",
    "    line = TreebankWordDetokenizer().detokenize(wordlist)\n",
    "    return line\n",
    "        \n",
    "\n",
    "\n",
    "def remove_person_name(sentence):\n",
    "    \n",
    "    personNames = []\n",
    "    wordsList = word_tokenize(sentence)\n",
    "    for item in tree2conlltags(ne_chunk(pos_tag(wordsList))):\n",
    "        if 'PERSON' in item[2]:\n",
    "            personNames.append(item[0])\n",
    "    \n",
    "    return personNames\n",
    "    \n",
    "\n",
    "\n",
    "def get_text_from_file(file):\n",
    "    text_in_file = []\n",
    "    text_preprocessed_list = []\n",
    "    text_preprocessed_strings = \"\"\n",
    "\n",
    "    with open(path+file, encoding=\"utf8\", errors='ignore') as f:\n",
    "      file_lines = f.readlines()\n",
    "    \n",
    "    # file = open(os.path.join(path, file))\n",
    "    # file_lines = file.readlines()\n",
    "    \n",
    "    for line in file_lines:\n",
    "        # regex pattern --> word:\n",
    "        if re.search(r\"^\\w.*:\", line):\n",
    "            continue\n",
    "        # Remove [words]\n",
    "        pattern = r\"(\\[(?:\\[??[^\\[]*?\\]))\"\n",
    "        line = re.sub(pattern, \"\", line)\n",
    "        \n",
    "        # Remove (words)\n",
    "        pattern = r\".*?\\((.*?)\\)\"\n",
    "        line = re.sub(pattern, \"\", line)\n",
    "        \n",
    "        # Remove <words>\n",
    "        pattern = r\".*?\\<(.*?)\\>\"\n",
    "        line = re.sub(pattern, \"\", line)\n",
    "        \n",
    "        line = ''.join(i for i in line if not i in bad_chars)\n",
    "        \n",
    "        line = line.rstrip(\"\\n\")\n",
    "        line = line.rstrip(\"\\t\")\n",
    "        line = line.rstrip(\"--\")\n",
    "        line = line.lstrip()\n",
    "        \n",
    "        # specific\n",
    "        line = re.sub(r\"won't\", \"will not\", line)\n",
    "        line = re.sub(r\"can\\'t\", \"can not\", line)\n",
    "\n",
    "        # general\n",
    "        line = re.sub(r\"n\\'t\", \" not\", line)\n",
    "        line = re.sub(r\"\\'re\", \" are\", line)\n",
    "        line = re.sub(r\"\\'s\", \" is\", line)\n",
    "        line = re.sub(r\"\\'d\", \" would\", line)\n",
    "        line = re.sub(r\"\\'ll\", \" will\", line)\n",
    "        line = re.sub(r\"\\'t\", \" not\", line)\n",
    "        line = re.sub(r\"\\'ve\", \" have\", line)\n",
    "        line = re.sub(r\"\\'m\", \" am\", line)\n",
    "                           \n",
    "        for c in line:\n",
    "            line = line.replace('\\\\', '')\n",
    "            line = line.replace('/', '')\n",
    "            \n",
    "            \n",
    "        # remove person names\n",
    "        personNames = remove_person_name(line)        \n",
    "        for name in personNames:\n",
    "            line = line.rstrip(name)\n",
    "            \n",
    "        # remove digits\n",
    "        line = ''.join([i for i in line if not i.isdigit()]) \n",
    "        \n",
    "        # remove words like _word, word_, _word_ and [get word2 from pattern word1_word2]\n",
    "        line = remove_word_type(line)\n",
    "        \n",
    "        \n",
    "        # convert to lower case\n",
    "        line = line.lower()\n",
    "        \n",
    "        # remove words that are <=2 and >=15\n",
    "        line = removeWord_with_len(line)\n",
    "        \n",
    "        # remove all the words except (a-zA-Z and space)\n",
    "        line = re.sub(r'[^a-zA-Z ]+', '', line)\n",
    "        \n",
    "        if line.strip() == \"\":\n",
    "            continue\n",
    "            \n",
    "        text_in_file.append(line)\n",
    "        \n",
    "    if len(text_in_file) == 1:\n",
    "        for i, c in enumerate(text_in_file):\n",
    "            if i==0 and c==\" \":\n",
    "                continue\n",
    "            elif (i==1 and c==\" \"):\n",
    "                continue\n",
    "            else:\n",
    "                text_preprocessed_strings = text_preprocessed_strings + c\n",
    "            \n",
    "    if len(text_in_file) > 1:\n",
    "        for item in text_in_file:\n",
    "            for i, c in enumerate(item):\n",
    "                if i==0 and c==\" \":\n",
    "                    continue\n",
    "                elif (i==1 and c==\" \"):\n",
    "                    continue\n",
    "                else:\n",
    "                    text_preprocessed_strings = text_preprocessed_strings + c\n",
    "                \n",
    "    \n",
    "    text_preprocessed_strings = re.sub('  ',\"\", text_preprocessed_strings)\n",
    "        \n",
    "    return text_preprocessed_strings\n",
    "        "
   ]
  },
  {
   "cell_type": "markdown",
   "metadata": {
    "id": "hhWcopICSE8a"
   },
   "source": [
    "# Raw Text"
   ]
  },
  {
   "cell_type": "code",
   "execution_count": null,
   "metadata": {
    "id": "sTjiLxxfSE8c"
   },
   "outputs": [],
   "source": [
    "def get_raw_text_from_file(file):\n",
    "    text_in_file = []\n",
    "    raw_text_string = \"\"\n",
    "    \n",
    "    with open(path+file, encoding=\"utf8\", errors='ignore') as f:\n",
    "      file_lines = f.readlines()\n",
    "    \n",
    "    for line in file_lines:\n",
    "        text_in_file.append(line)\n",
    "    \n",
    "    if len(text_in_file) == 1:\n",
    "        for i, c in enumerate(text_in_file):\n",
    "            raw_text_string = raw_text_string + c\n",
    "                \n",
    "    if len(text_in_file) > 1:\n",
    "        for item in text_in_file:\n",
    "            for i, c in enumerate(item):\n",
    "                raw_text_string = raw_text_string + c\n",
    "                \n",
    "    return raw_text_string\n",
    "                \n",
    "    \n",
    "                \n",
    "    \n",
    "    \n",
    "    "
   ]
  },
  {
   "cell_type": "markdown",
   "metadata": {
    "id": "syF8pgbMSE8i"
   },
   "source": [
    "# Extracting emails, subject and texts from all files"
   ]
  },
  {
   "cell_type": "code",
   "execution_count": null,
   "metadata": {
    "id": "HwWxW8rnSE8j"
   },
   "outputs": [],
   "source": [
    "def pre_process_text_file(file_list):\n",
    "    preprocessed_email_list = []\n",
    "    preprocessed_subject_list = []\n",
    "    preprocessed_text_list = []\n",
    "    raw_text_list = []\n",
    "\n",
    "    for i, file in enumerate(file_list):\n",
    "        \n",
    "        preprocessed_subject_list.append(get_subject_from_file(file)[1])\n",
    "        preprocessed_email_list.append(get_emails_from_file(file)[0])\n",
    "        preprocessed_text_list.append(get_text_from_file(file))\n",
    "        raw_text_list.append(get_raw_text_from_file(file))\n",
    "        \n",
    "    return preprocessed_subject_list, preprocessed_email_list, preprocessed_text_list, raw_text_list"
   ]
  },
  {
   "cell_type": "markdown",
   "metadata": {
    "id": "FJe0s77TSE8n"
   },
   "source": [
    "# Extracting text from alt.atheism_49960.txt"
   ]
  },
  {
   "cell_type": "code",
   "execution_count": null,
   "metadata": {
    "id": "7bU5ODSESE8p"
   },
   "outputs": [],
   "source": [
    "def pre_process_text_file_specific(file_list):\n",
    "    preprocessed_email_list = []\n",
    "    preprocessed_subject_list = []\n",
    "    preprocessed_text_list = []\n",
    "    raw_text_list = []\n",
    "    file_name = []\n",
    "\n",
    "    for file in file_list:\n",
    "        if file == \"alt.atheism_49960.txt\":\n",
    "            preprocessed_subject_list.append(get_subject_from_file(file)[1])\n",
    "            preprocessed_email_list.append(get_emails_from_file(file)[0])\n",
    "            preprocessed_text_list.append(get_text_from_file(file))\n",
    "            raw_text_list.append(get_raw_text_from_file(file))\n",
    "            file_name.append(file)\n",
    "        \n",
    "            break\n",
    "        \n",
    "    return preprocessed_subject_list, preprocessed_email_list, preprocessed_text_list, raw_text_list, file_name\n",
    "    "
   ]
  },
  {
   "cell_type": "markdown",
   "metadata": {
    "id": "BY-N7z4vSE88"
   },
   "source": [
    "# List all files and extract email, subject, text and raw text"
   ]
  },
  {
   "cell_type": "code",
   "execution_count": null,
   "metadata": {
    "colab": {
     "base_uri": "https://localhost:8080/"
    },
    "id": "Sgf3gNp6SE8-",
    "outputId": "89821b81-96c5-407f-d467-ea3c065f6fc9"
   },
   "outputs": [
    {
     "data": {
      "text/plain": [
       "['talk.politics.misc_178714.txt',\n",
       " 'talk.politics.misc_179113.txt',\n",
       " 'talk.politics.misc_178837.txt',\n",
       " 'talk.politics.misc_179067.txt',\n",
       " 'talk.politics.misc_178648.txt',\n",
       " 'talk.politics.misc_178977.txt',\n",
       " 'talk.politics.misc_176850.txt',\n",
       " 'talk.politics.misc_178788.txt',\n",
       " 'talk.politics.misc_178431.txt',\n",
       " 'talk.politics.misc_178663.txt',\n",
       " 'talk.politics.misc_178770.txt',\n",
       " 'talk.politics.misc_178842.txt',\n",
       " 'talk.politics.misc_178643.txt',\n",
       " 'talk.politics.misc_178545.txt',\n",
       " 'talk.politics.misc_178870.txt',\n",
       " 'talk.politics.misc_178348.txt',\n",
       " 'talk.politics.misc_179081.txt',\n",
       " 'talk.politics.misc_176904.txt',\n",
       " 'talk.politics.misc_178329.txt',\n",
       " 'talk.politics.misc_178626.txt',\n",
       " 'talk.politics.misc_178629.txt',\n",
       " 'talk.politics.misc_178673.txt',\n",
       " 'talk.politics.misc_178849.txt',\n",
       " 'talk.politics.misc_178672.txt',\n",
       " 'talk.politics.misc_179025.txt',\n",
       " 'talk.politics.misc_179102.txt',\n",
       " 'talk.politics.misc_178772.txt',\n",
       " 'talk.politics.misc_179048.txt',\n",
       " 'talk.politics.misc_178333.txt',\n",
       " 'talk.politics.misc_178435.txt',\n",
       " 'talk.politics.misc_176852.txt',\n",
       " 'talk.politics.misc_176980.txt',\n",
       " 'talk.politics.misc_178411.txt',\n",
       " 'talk.politics.misc_179091.txt',\n",
       " 'talk.politics.misc_178989.txt',\n",
       " 'talk.politics.misc_178876.txt',\n",
       " 'talk.politics.misc_178860.txt',\n",
       " 'talk.politics.misc_176891.txt',\n",
       " 'talk.politics.misc_178543.txt',\n",
       " 'talk.politics.misc_178310.txt',\n",
       " 'talk.politics.misc_178627.txt',\n",
       " 'talk.politics.misc_178895.txt',\n",
       " 'talk.politics.misc_178556.txt',\n",
       " 'talk.politics.misc_176887.txt',\n",
       " 'talk.politics.misc_178781.txt',\n",
       " 'talk.politics.misc_178802.txt',\n",
       " 'talk.politics.misc_178302.txt',\n",
       " 'talk.politics.misc_179088.txt',\n",
       " 'talk.politics.misc_178410.txt',\n",
       " 'talk.politics.misc_178725.txt',\n",
       " 'talk.politics.misc_176931.txt',\n",
       " 'talk.politics.misc_178438.txt',\n",
       " 'talk.politics.misc_178605.txt',\n",
       " 'talk.politics.misc_179022.txt',\n",
       " 'talk.politics.misc_177010.txt',\n",
       " 'talk.politics.misc_176942.txt',\n",
       " 'talk.politics.misc_178855.txt',\n",
       " 'talk.politics.misc_177011.txt',\n",
       " 'talk.politics.misc_178952.txt',\n",
       " 'talk.politics.misc_176903.txt',\n",
       " 'talk.politics.misc_178835.txt',\n",
       " 'talk.politics.misc_178836.txt',\n",
       " 'talk.politics.misc_178510.txt',\n",
       " 'talk.politics.misc_178596.txt',\n",
       " 'talk.politics.misc_178967.txt',\n",
       " 'talk.politics.misc_177007.txt',\n",
       " 'talk.politics.misc_176847.txt',\n",
       " 'talk.politics.misc_178394.txt',\n",
       " 'talk.politics.misc_178866.txt',\n",
       " 'talk.politics.misc_178520.txt',\n",
       " 'talk.politics.misc_178901.txt',\n",
       " 'talk.politics.misc_178555.txt',\n",
       " 'talk.politics.misc_178576.txt',\n",
       " 'talk.politics.misc_178417.txt',\n",
       " 'talk.politics.misc_178982.txt',\n",
       " 'talk.politics.misc_178299.txt',\n",
       " 'talk.politics.misc_179063.txt',\n",
       " 'talk.politics.misc_178906.txt',\n",
       " 'talk.politics.misc_178664.txt',\n",
       " 'talk.politics.misc_178569.txt',\n",
       " 'talk.politics.misc_178296.txt',\n",
       " 'talk.politics.misc_177022.txt',\n",
       " 'talk.politics.misc_178671.txt',\n",
       " 'talk.politics.misc_178752.txt',\n",
       " 'talk.politics.misc_176902.txt',\n",
       " 'talk.politics.misc_176861.txt',\n",
       " 'talk.politics.misc_178676.txt',\n",
       " 'talk.politics.misc_178767.txt',\n",
       " 'talk.politics.misc_178468.txt',\n",
       " 'talk.politics.misc_178871.txt',\n",
       " 'talk.politics.misc_179006.txt',\n",
       " 'talk.politics.misc_176976.txt',\n",
       " 'talk.politics.misc_178768.txt',\n",
       " 'talk.politics.misc_178448.txt',\n",
       " 'talk.politics.misc_179089.txt',\n",
       " 'talk.politics.misc_176935.txt',\n",
       " 'talk.politics.misc_178407.txt',\n",
       " 'talk.politics.misc_178987.txt',\n",
       " 'talk.politics.misc_178887.txt',\n",
       " 'talk.politics.misc_178903.txt',\n",
       " 'talk.politics.misc_178929.txt',\n",
       " 'talk.politics.misc_178979.txt',\n",
       " 'talk.politics.misc_178891.txt',\n",
       " 'talk.politics.misc_178753.txt',\n",
       " 'talk.politics.misc_178326.txt',\n",
       " 'talk.politics.misc_177008.txt',\n",
       " 'talk.politics.misc_178682.txt',\n",
       " 'talk.politics.misc_179116.txt',\n",
       " 'talk.politics.misc_178868.txt',\n",
       " 'talk.politics.misc_176878.txt',\n",
       " 'talk.politics.misc_176969.txt',\n",
       " 'talk.politics.misc_176906.txt',\n",
       " 'talk.politics.misc_178668.txt',\n",
       " 'talk.politics.misc_178487.txt',\n",
       " 'talk.politics.misc_176936.txt',\n",
       " 'talk.politics.misc_178557.txt',\n",
       " 'talk.politics.misc_178869.txt',\n",
       " 'talk.politics.misc_178380.txt',\n",
       " 'talk.politics.misc_178669.txt',\n",
       " 'talk.politics.misc_178759.txt',\n",
       " 'talk.politics.misc_178486.txt',\n",
       " 'talk.politics.misc_176860.txt',\n",
       " 'talk.politics.misc_178433.txt',\n",
       " 'talk.politics.misc_178694.txt',\n",
       " 'talk.politics.misc_178401.txt',\n",
       " 'talk.politics.misc_178378.txt',\n",
       " 'talk.politics.misc_178732.txt',\n",
       " 'talk.politics.misc_176897.txt',\n",
       " 'talk.politics.misc_178784.txt',\n",
       " 'talk.politics.misc_176890.txt',\n",
       " 'talk.politics.misc_178392.txt',\n",
       " 'talk.politics.misc_178763.txt',\n",
       " 'talk.politics.misc_176959.txt',\n",
       " 'talk.politics.misc_178928.txt',\n",
       " 'talk.politics.misc_177020.txt',\n",
       " 'talk.politics.misc_179008.txt',\n",
       " 'talk.politics.misc_178986.txt',\n",
       " 'talk.politics.misc_176885.txt',\n",
       " 'talk.politics.misc_178446.txt',\n",
       " 'talk.politics.misc_178355.txt',\n",
       " 'talk.politics.misc_178840.txt',\n",
       " 'talk.politics.misc_179007.txt',\n",
       " 'talk.politics.misc_178956.txt',\n",
       " 'talk.politics.misc_178735.txt',\n",
       " 'talk.politics.misc_178973.txt',\n",
       " 'talk.politics.misc_178563.txt',\n",
       " 'talk.politics.misc_178716.txt',\n",
       " 'talk.politics.misc_179015.txt',\n",
       " 'talk.politics.misc_178665.txt',\n",
       " 'talk.politics.misc_178872.txt',\n",
       " 'talk.politics.misc_176958.txt',\n",
       " 'talk.politics.misc_178483.txt',\n",
       " 'talk.politics.misc_178531.txt',\n",
       " 'talk.politics.misc_176929.txt',\n",
       " 'talk.politics.misc_178619.txt',\n",
       " 'talk.politics.misc_178300.txt',\n",
       " 'talk.politics.misc_178595.txt',\n",
       " 'talk.politics.misc_178526.txt',\n",
       " 'talk.politics.misc_178419.txt',\n",
       " 'talk.politics.misc_178935.txt',\n",
       " 'talk.politics.misc_178308.txt',\n",
       " 'talk.politics.misc_178608.txt',\n",
       " 'talk.politics.misc_178353.txt',\n",
       " 'talk.politics.misc_178790.txt',\n",
       " 'talk.politics.misc_178970.txt',\n",
       " 'talk.politics.misc_179046.txt',\n",
       " 'talk.politics.misc_178771.txt',\n",
       " 'talk.politics.misc_179075.txt',\n",
       " 'talk.politics.misc_178640.txt',\n",
       " 'talk.politics.misc_176970.txt',\n",
       " 'talk.politics.misc_178983.txt',\n",
       " 'talk.politics.misc_178447.txt',\n",
       " 'talk.politics.misc_178533.txt',\n",
       " 'talk.politics.misc_178942.txt',\n",
       " 'talk.politics.misc_177016.txt',\n",
       " 'talk.politics.misc_178882.txt',\n",
       " 'talk.politics.misc_178624.txt',\n",
       " 'talk.politics.misc_178375.txt',\n",
       " 'talk.politics.misc_176962.txt',\n",
       " 'talk.politics.misc_178383.txt',\n",
       " 'talk.politics.misc_176952.txt',\n",
       " 'talk.politics.misc_178453.txt',\n",
       " 'talk.politics.misc_178518.txt',\n",
       " 'talk.politics.misc_178884.txt',\n",
       " 'talk.politics.misc_176896.txt',\n",
       " 'talk.politics.misc_178910.txt',\n",
       " 'talk.politics.misc_178832.txt',\n",
       " 'talk.politics.misc_176868.txt',\n",
       " 'talk.politics.misc_178776.txt',\n",
       " 'talk.politics.misc_178420.txt',\n",
       " 'talk.politics.misc_178361.txt',\n",
       " 'talk.politics.misc_176864.txt',\n",
       " 'talk.politics.misc_176922.txt',\n",
       " 'talk.politics.misc_176876.txt',\n",
       " 'talk.politics.misc_176926.txt',\n",
       " 'talk.politics.misc_178723.txt',\n",
       " 'talk.politics.misc_179035.txt',\n",
       " 'talk.politics.misc_178731.txt',\n",
       " 'talk.politics.misc_178541.txt',\n",
       " 'talk.politics.misc_178654.txt',\n",
       " 'talk.politics.misc_178583.txt',\n",
       " 'talk.politics.misc_177024.txt',\n",
       " 'talk.politics.misc_179098.txt',\n",
       " 'talk.politics.misc_178606.txt',\n",
       " 'talk.politics.misc_178854.txt',\n",
       " 'talk.politics.misc_176944.txt',\n",
       " 'talk.politics.misc_178602.txt',\n",
       " 'talk.politics.misc_178430.txt',\n",
       " 'talk.politics.misc_178319.txt',\n",
       " 'talk.politics.misc_178502.txt',\n",
       " 'talk.politics.misc_178564.txt',\n",
       " 'talk.politics.misc_178641.txt',\n",
       " 'talk.politics.misc_178722.txt',\n",
       " 'talk.politics.misc_178425.txt',\n",
       " 'talk.politics.misc_178416.txt',\n",
       " 'talk.politics.misc_179000.txt',\n",
       " 'talk.politics.misc_178707.txt',\n",
       " 'talk.politics.misc_178342.txt',\n",
       " 'talk.politics.misc_178844.txt',\n",
       " 'talk.politics.misc_178712.txt',\n",
       " 'talk.politics.misc_176898.txt',\n",
       " 'talk.politics.misc_178631.txt',\n",
       " 'talk.politics.misc_178890.txt',\n",
       " 'talk.politics.misc_178764.txt',\n",
       " 'talk.politics.misc_179037.txt',\n",
       " 'talk.politics.misc_178314.txt',\n",
       " 'talk.politics.misc_178742.txt',\n",
       " 'talk.politics.misc_179001.txt',\n",
       " 'talk.politics.misc_178649.txt',\n",
       " 'talk.politics.misc_176856.txt',\n",
       " 'talk.politics.misc_178907.txt',\n",
       " 'talk.politics.misc_176996.txt',\n",
       " 'talk.politics.misc_178458.txt',\n",
       " 'talk.politics.misc_176859.txt',\n",
       " 'talk.politics.misc_176930.txt',\n",
       " 'talk.politics.misc_179020.txt',\n",
       " 'talk.politics.misc_176947.txt',\n",
       " 'talk.politics.misc_178693.txt',\n",
       " 'talk.politics.misc_176862.txt',\n",
       " 'talk.politics.misc_178560.txt',\n",
       " 'talk.politics.misc_178653.txt',\n",
       " 'talk.politics.misc_176858.txt',\n",
       " 'talk.politics.misc_178316.txt',\n",
       " 'talk.politics.misc_178374.txt',\n",
       " 'talk.politics.misc_176895.txt',\n",
       " 'talk.politics.misc_176989.txt',\n",
       " 'talk.politics.misc_178702.txt',\n",
       " 'talk.politics.misc_178325.txt',\n",
       " 'talk.politics.misc_178939.txt',\n",
       " 'talk.politics.misc_176886.txt',\n",
       " 'talk.politics.misc_176909.txt',\n",
       " 'talk.politics.misc_178897.txt',\n",
       " 'talk.politics.misc_177021.txt',\n",
       " 'talk.politics.misc_178867.txt',\n",
       " 'talk.politics.misc_176849.txt',\n",
       " 'talk.politics.misc_178994.txt',\n",
       " 'talk.politics.misc_176981.txt',\n",
       " 'talk.politics.misc_178584.txt',\n",
       " 'talk.politics.misc_178794.txt',\n",
       " 'talk.politics.misc_178508.txt',\n",
       " 'talk.politics.misc_176923.txt',\n",
       " 'talk.politics.misc_178358.txt',\n",
       " 'talk.politics.misc_178498.txt',\n",
       " 'talk.politics.misc_178346.txt',\n",
       " 'talk.politics.misc_176917.txt',\n",
       " 'talk.politics.misc_178588.txt',\n",
       " 'talk.politics.misc_178724.txt',\n",
       " 'talk.politics.misc_178636.txt',\n",
       " 'talk.politics.misc_178912.txt',\n",
       " 'talk.politics.misc_178382.txt',\n",
       " 'talk.politics.misc_178542.txt',\n",
       " 'talk.politics.misc_176973.txt',\n",
       " 'talk.politics.misc_178611.txt',\n",
       " 'talk.politics.misc_178370.txt',\n",
       " 'talk.politics.misc_178681.txt',\n",
       " 'talk.politics.misc_178638.txt',\n",
       " 'talk.politics.misc_178445.txt',\n",
       " 'talk.politics.misc_178409.txt',\n",
       " 'talk.politics.misc_178423.txt',\n",
       " 'talk.politics.misc_178490.txt',\n",
       " 'talk.politics.misc_178941.txt',\n",
       " 'talk.politics.misc_176993.txt',\n",
       " 'talk.politics.misc_177018.txt',\n",
       " 'talk.politics.misc_178857.txt',\n",
       " 'talk.politics.misc_178343.txt',\n",
       " 'talk.politics.misc_176948.txt',\n",
       " 'talk.politics.misc_179051.txt',\n",
       " 'talk.politics.misc_176979.txt',\n",
       " 'talk.politics.misc_178743.txt',\n",
       " 'talk.politics.misc_178511.txt',\n",
       " 'talk.politics.misc_179033.txt',\n",
       " 'talk.politics.misc_178992.txt',\n",
       " 'talk.politics.misc_178452.txt',\n",
       " 'talk.politics.misc_176870.txt',\n",
       " 'talk.politics.misc_178457.txt',\n",
       " 'talk.politics.misc_178387.txt',\n",
       " 'talk.politics.misc_178485.txt',\n",
       " 'talk.politics.misc_179009.txt',\n",
       " 'talk.politics.misc_178940.txt',\n",
       " 'talk.politics.misc_176889.txt',\n",
       " 'talk.politics.misc_177012.txt',\n",
       " 'talk.politics.misc_176877.txt',\n",
       " 'talk.politics.misc_178838.txt',\n",
       " 'talk.politics.misc_178718.txt',\n",
       " 'talk.politics.misc_178313.txt',\n",
       " 'talk.politics.misc_176913.txt',\n",
       " 'talk.politics.misc_176865.txt',\n",
       " 'talk.politics.misc_178848.txt',\n",
       " 'talk.religion.misc_83669.txt',\n",
       " 'talk.politics.misc_178981.txt',\n",
       " 'talk.politics.misc_178499.txt',\n",
       " 'talk.politics.misc_178880.txt',\n",
       " 'talk.politics.misc_179060.txt',\n",
       " 'talk.politics.misc_178708.txt',\n",
       " 'talk.politics.misc_178709.txt',\n",
       " 'talk.politics.misc_178544.txt',\n",
       " 'talk.politics.misc_178749.txt',\n",
       " 'talk.politics.misc_176964.txt',\n",
       " 'talk.politics.misc_178883.txt',\n",
       " 'talk.politics.misc_179047.txt',\n",
       " 'talk.politics.misc_178515.txt',\n",
       " 'talk.politics.misc_176946.txt',\n",
       " 'talk.politics.misc_178859.txt',\n",
       " 'talk.politics.misc_179031.txt',\n",
       " 'talk.politics.misc_178893.txt',\n",
       " 'talk.politics.misc_178697.txt',\n",
       " 'talk.politics.misc_176938.txt',\n",
       " 'talk.politics.misc_178311.txt',\n",
       " 'talk.politics.misc_178943.txt',\n",
       " 'talk.politics.misc_178466.txt',\n",
       " 'talk.politics.misc_179112.txt',\n",
       " 'talk.politics.misc_178628.txt',\n",
       " 'talk.politics.misc_178926.txt',\n",
       " 'talk.politics.misc_178578.txt',\n",
       " 'talk.politics.misc_179111.txt',\n",
       " 'talk.politics.misc_176921.txt',\n",
       " 'talk.politics.misc_178703.txt',\n",
       " 'talk.politics.misc_178932.txt',\n",
       " 'talk.politics.misc_178389.txt',\n",
       " 'talk.religion.misc_84288.txt',\n",
       " 'talk.politics.misc_178911.txt',\n",
       " 'talk.politics.misc_178962.txt',\n",
       " 'talk.politics.misc_176888.txt',\n",
       " 'talk.politics.misc_178782.txt',\n",
       " 'talk.politics.misc_178908.txt',\n",
       " 'talk.politics.misc_178309.txt',\n",
       " 'talk.politics.misc_178597.txt',\n",
       " 'talk.politics.misc_178408.txt',\n",
       " 'talk.politics.misc_178393.txt',\n",
       " 'talk.politics.misc_178514.txt',\n",
       " 'talk.politics.misc_179099.txt',\n",
       " 'talk.politics.misc_178757.txt',\n",
       " 'talk.politics.misc_178523.txt',\n",
       " 'talk.politics.misc_179071.txt',\n",
       " 'talk.politics.misc_177004.txt',\n",
       " 'talk.politics.misc_178930.txt',\n",
       " 'talk.politics.misc_176971.txt',\n",
       " 'talk.politics.misc_178761.txt',\n",
       " 'talk.politics.misc_176995.txt',\n",
       " 'talk.politics.misc_179027.txt',\n",
       " 'talk.politics.misc_178946.txt',\n",
       " 'talk.politics.misc_178696.txt',\n",
       " 'talk.politics.misc_176880.txt',\n",
       " 'talk.politics.misc_178902.txt',\n",
       " 'talk.politics.misc_178760.txt',\n",
       " 'talk.politics.misc_176965.txt',\n",
       " 'talk.politics.misc_178550.txt',\n",
       " 'talk.politics.misc_178372.txt',\n",
       " 'talk.politics.misc_178475.txt',\n",
       " 'talk.politics.misc_179095.txt',\n",
       " 'talk.politics.misc_179003.txt',\n",
       " 'talk.politics.misc_178958.txt',\n",
       " 'talk.politics.misc_178336.txt',\n",
       " 'talk.politics.misc_178795.txt',\n",
       " 'talk.religion.misc_84276.txt',\n",
       " 'talk.religion.misc_84564.txt',\n",
       " 'talk.religion.misc_84153.txt',\n",
       " 'talk.religion.misc_83972.txt',\n",
       " 'talk.religion.misc_84286.txt',\n",
       " 'talk.religion.misc_84140.txt',\n",
       " 'talk.religion.misc_83823.txt',\n",
       " 'talk.religion.misc_83807.txt',\n",
       " 'talk.religion.misc_83978.txt',\n",
       " 'talk.religion.misc_83478.txt',\n",
       " 'talk.religion.misc_83622.txt',\n",
       " 'talk.religion.misc_83469.txt',\n",
       " 'talk.religion.misc_83483.txt',\n",
       " 'talk.religion.misc_84018.txt',\n",
       " 'talk.religion.misc_84346.txt',\n",
       " 'talk.religion.misc_84084.txt',\n",
       " 'talk.religion.misc_84294.txt',\n",
       " 'talk.religion.misc_84182.txt',\n",
       " 'talk.religion.misc_83471.txt',\n",
       " 'talk.religion.misc_83915.txt',\n",
       " 'talk.religion.misc_84445.txt',\n",
       " 'talk.religion.misc_82757.txt',\n",
       " 'talk.religion.misc_83472.txt',\n",
       " 'talk.religion.misc_84006.txt',\n",
       " 'talk.religion.misc_82766.txt',\n",
       " 'talk.religion.misc_83497.txt',\n",
       " 'talk.religion.misc_84282.txt',\n",
       " 'talk.religion.misc_84248.txt',\n",
       " 'talk.religion.misc_83907.txt',\n",
       " 'talk.religion.misc_83817.txt',\n",
       " 'talk.religion.misc_83621.txt',\n",
       " 'talk.religion.misc_83856.txt',\n",
       " 'talk.religion.misc_83728.txt',\n",
       " 'talk.religion.misc_83688.txt',\n",
       " 'talk.religion.misc_84148.txt',\n",
       " 'talk.religion.misc_84135.txt',\n",
       " 'talk.religion.misc_84195.txt',\n",
       " 'talk.religion.misc_82818.txt',\n",
       " 'talk.religion.misc_83449.txt',\n",
       " 'talk.religion.misc_83593.txt',\n",
       " 'talk.religion.misc_84033.txt',\n",
       " 'talk.religion.misc_84350.txt',\n",
       " 'talk.religion.misc_83738.txt',\n",
       " 'talk.religion.misc_83812.txt',\n",
       " 'talk.religion.misc_83662.txt',\n",
       " 'talk.religion.misc_83674.txt',\n",
       " 'talk.religion.misc_82799.txt',\n",
       " 'talk.religion.misc_82796.txt',\n",
       " 'talk.religion.misc_83801.txt',\n",
       " 'talk.religion.misc_83986.txt',\n",
       " 'talk.religion.misc_84304.txt',\n",
       " 'talk.religion.misc_84207.txt',\n",
       " 'talk.religion.misc_84329.txt',\n",
       " 'talk.religion.misc_84212.txt',\n",
       " 'talk.religion.misc_84007.txt',\n",
       " 'talk.religion.misc_83985.txt',\n",
       " 'talk.religion.misc_84139.txt',\n",
       " 'talk.religion.misc_84023.txt',\n",
       " 'talk.religion.misc_83441.txt',\n",
       " 'talk.religion.misc_82774.txt',\n",
       " 'talk.religion.misc_83968.txt',\n",
       " 'talk.religion.misc_82819.txt',\n",
       " 'talk.religion.misc_83983.txt',\n",
       " 'talk.religion.misc_83725.txt',\n",
       " 'talk.religion.misc_83594.txt',\n",
       " 'talk.religion.misc_82813.txt',\n",
       " 'talk.religion.misc_84348.txt',\n",
       " 'talk.religion.misc_84134.txt',\n",
       " 'talk.religion.misc_82801.txt',\n",
       " 'talk.religion.misc_82797.txt',\n",
       " 'talk.religion.misc_84065.txt',\n",
       " 'talk.religion.misc_84144.txt',\n",
       " 'talk.religion.misc_83437.txt',\n",
       " 'talk.religion.misc_83467.txt',\n",
       " 'talk.religion.misc_84312.txt',\n",
       " 'talk.religion.misc_84341.txt',\n",
       " 'talk.religion.misc_84062.txt',\n",
       " 'talk.religion.misc_83672.txt',\n",
       " 'talk.religion.misc_83689.txt',\n",
       " 'talk.religion.misc_84339.txt',\n",
       " 'talk.religion.misc_84185.txt',\n",
       " 'talk.religion.misc_84218.txt',\n",
       " 'talk.religion.misc_83855.txt',\n",
       " 'talk.religion.misc_84096.txt',\n",
       " 'talk.religion.misc_84215.txt',\n",
       " 'talk.religion.misc_83708.txt',\n",
       " 'talk.religion.misc_83673.txt',\n",
       " 'talk.religion.misc_84236.txt',\n",
       " 'talk.religion.misc_84308.txt',\n",
       " 'talk.religion.misc_84054.txt',\n",
       " 'talk.religion.misc_83835.txt',\n",
       " 'talk.religion.misc_84249.txt',\n",
       " 'talk.religion.misc_84170.txt',\n",
       " 'talk.religion.misc_84272.txt',\n",
       " 'talk.religion.misc_84310.txt',\n",
       " 'talk.religion.misc_84245.txt',\n",
       " 'talk.religion.misc_83513.txt',\n",
       " 'talk.religion.misc_82800.txt',\n",
       " 'talk.religion.misc_83526.txt',\n",
       " 'talk.religion.misc_84057.txt',\n",
       " 'talk.religion.misc_83453.txt',\n",
       " 'talk.religion.misc_84232.txt',\n",
       " 'talk.religion.misc_84209.txt',\n",
       " 'talk.religion.misc_84437.txt',\n",
       " 'talk.religion.misc_83910.txt',\n",
       " 'talk.religion.misc_84291.txt',\n",
       " 'talk.religion.misc_83897.txt',\n",
       " 'talk.religion.misc_84133.txt',\n",
       " 'talk.religion.misc_83479.txt',\n",
       " 'talk.religion.misc_83781.txt',\n",
       " 'talk.religion.misc_83451.txt',\n",
       " 'talk.religion.misc_83506.txt',\n",
       " 'talk.religion.misc_83979.txt',\n",
       " 'talk.religion.misc_83525.txt',\n",
       " 'talk.religion.misc_83668.txt',\n",
       " 'talk.religion.misc_83504.txt',\n",
       " 'talk.religion.misc_84334.txt',\n",
       " 'talk.religion.misc_84358.txt',\n",
       " 'talk.religion.misc_83498.txt',\n",
       " 'talk.religion.misc_83852.txt',\n",
       " 'talk.religion.misc_84538.txt',\n",
       " 'talk.religion.misc_82759.txt',\n",
       " 'talk.religion.misc_83439.txt',\n",
       " 'talk.religion.misc_83974.txt',\n",
       " 'talk.religion.misc_83445.txt',\n",
       " 'talk.religion.misc_84557.txt',\n",
       " 'talk.religion.misc_84446.txt',\n",
       " 'talk.religion.misc_84289.txt',\n",
       " 'talk.religion.misc_84120.txt',\n",
       " 'talk.religion.misc_83592.txt',\n",
       " 'talk.religion.misc_84240.txt',\n",
       " 'talk.religion.misc_82763.txt',\n",
       " 'talk.religion.misc_83496.txt',\n",
       " 'talk.religion.misc_84048.txt',\n",
       " 'talk.religion.misc_83900.txt',\n",
       " 'talk.religion.misc_84241.txt',\n",
       " 'talk.religion.misc_83488.txt',\n",
       " 'talk.religion.misc_84428.txt',\n",
       " 'talk.religion.misc_84199.txt',\n",
       " 'talk.religion.misc_83845.txt',\n",
       " 'talk.religion.misc_84174.txt',\n",
       " 'talk.religion.misc_84184.txt',\n",
       " 'talk.religion.misc_83442.txt',\n",
       " 'talk.religion.misc_84229.txt',\n",
       " 'talk.religion.misc_84295.txt',\n",
       " 'talk.religion.misc_84251.txt',\n",
       " 'talk.religion.misc_84011.txt',\n",
       " 'talk.religion.misc_84290.txt',\n",
       " 'talk.religion.misc_84401.txt',\n",
       " 'talk.religion.misc_84146.txt',\n",
       " 'talk.religion.misc_84128.txt',\n",
       " 'talk.religion.misc_83586.txt',\n",
       " 'talk.religion.misc_83816.txt',\n",
       " 'talk.religion.misc_84328.txt',\n",
       " 'talk.religion.misc_84204.txt',\n",
       " 'talk.religion.misc_82785.txt',\n",
       " 'talk.religion.misc_83789.txt',\n",
       " 'talk.religion.misc_84278.txt',\n",
       " 'talk.religion.misc_82778.txt',\n",
       " 'talk.religion.misc_82795.txt',\n",
       " 'talk.religion.misc_83454.txt',\n",
       " 'talk.religion.misc_83876.txt',\n",
       " 'talk.religion.misc_83487.txt',\n",
       " 'talk.religion.misc_83994.txt',\n",
       " 'talk.religion.misc_84353.txt',\n",
       " 'talk.religion.misc_84156.txt',\n",
       " 'talk.religion.misc_83491.txt',\n",
       " 'talk.religion.misc_84508.txt',\n",
       " 'talk.religion.misc_83799.txt',\n",
       " 'talk.religion.misc_84444.txt',\n",
       " 'talk.religion.misc_84298.txt',\n",
       " 'talk.religion.misc_82788.txt',\n",
       " 'talk.religion.misc_83967.txt',\n",
       " 'talk.religion.misc_84274.txt',\n",
       " 'talk.religion.misc_82777.txt',\n",
       " 'talk.religion.misc_83971.txt',\n",
       " 'talk.religion.misc_84558.txt',\n",
       " 'talk.religion.misc_83843.txt',\n",
       " 'talk.religion.misc_84252.txt',\n",
       " 'talk.religion.misc_84222.txt',\n",
       " 'talk.religion.misc_83671.txt',\n",
       " 'talk.religion.misc_84265.txt',\n",
       " 'talk.religion.misc_84554.txt',\n",
       " 'talk.religion.misc_84143.txt',\n",
       " 'talk.religion.misc_84297.txt',\n",
       " 'talk.religion.misc_84193.txt',\n",
       " 'talk.religion.misc_84301.txt',\n",
       " 'talk.religion.misc_84203.txt',\n",
       " 'talk.religion.misc_84263.txt',\n",
       " 'talk.religion.misc_84147.txt',\n",
       " 'talk.religion.misc_83818.txt',\n",
       " 'talk.religion.misc_84105.txt',\n",
       " 'talk.religion.misc_83828.txt',\n",
       " 'talk.religion.misc_83495.txt',\n",
       " 'talk.religion.misc_83786.txt',\n",
       " 'talk.religion.misc_84101.txt',\n",
       " 'talk.religion.misc_84553.txt',\n",
       " 'talk.religion.misc_84275.txt',\n",
       " 'talk.religion.misc_83500.txt',\n",
       " 'talk.religion.misc_84149.txt',\n",
       " 'talk.religion.misc_84552.txt',\n",
       " 'talk.religion.misc_83744.txt',\n",
       " 'talk.religion.misc_83932.txt',\n",
       " 'talk.religion.misc_83501.txt',\n",
       " 'talk.religion.misc_83867.txt',\n",
       " 'talk.religion.misc_84004.txt',\n",
       " 'talk.religion.misc_84022.txt',\n",
       " 'talk.religion.misc_83520.txt',\n",
       " 'talk.religion.misc_84061.txt',\n",
       " 'talk.religion.misc_83514.txt',\n",
       " 'talk.religion.misc_84281.txt',\n",
       " 'talk.religion.misc_84257.txt',\n",
       " 'talk.religion.misc_84562.txt',\n",
       " 'talk.religion.misc_83788.txt',\n",
       " 'talk.religion.misc_84239.txt',\n",
       " 'talk.religion.misc_84198.txt',\n",
       " 'talk.religion.misc_83808.txt',\n",
       " 'talk.religion.misc_84091.txt',\n",
       " 'talk.religion.misc_84422.txt',\n",
       " 'talk.religion.misc_83572.txt',\n",
       " 'talk.religion.misc_84438.txt',\n",
       " 'talk.religion.misc_84079.txt',\n",
       " 'talk.religion.misc_83508.txt',\n",
       " 'talk.religion.misc_84507.txt',\n",
       " 'talk.religion.misc_82782.txt',\n",
       " 'talk.religion.misc_83510.txt',\n",
       " 'talk.religion.misc_83535.txt',\n",
       " 'talk.religion.misc_83846.txt',\n",
       " 'talk.religion.misc_83860.txt',\n",
       " 'talk.religion.misc_84395.txt',\n",
       " 'talk.religion.misc_83998.txt',\n",
       " 'talk.religion.misc_83934.txt',\n",
       " 'talk.religion.misc_84436.txt',\n",
       " 'talk.religion.misc_83977.txt',\n",
       " 'talk.religion.misc_84165.txt',\n",
       " 'talk.religion.misc_84043.txt',\n",
       " 'talk.religion.misc_83455.txt',\n",
       " 'talk.religion.misc_84098.txt',\n",
       " 'talk.religion.misc_82772.txt',\n",
       " 'talk.religion.misc_83485.txt',\n",
       " 'talk.religion.misc_82812.txt',\n",
       " 'talk.religion.misc_82807.txt',\n",
       " 'talk.religion.misc_84083.txt',\n",
       " 'talk.religion.misc_83790.txt',\n",
       " 'talk.religion.misc_84442.txt',\n",
       " 'talk.religion.misc_83957.txt',\n",
       " 'talk.religion.misc_82793.txt',\n",
       " 'talk.religion.misc_84261.txt',\n",
       " 'talk.religion.misc_83899.txt',\n",
       " 'talk.religion.misc_82775.txt',\n",
       " 'talk.religion.misc_83627.txt',\n",
       " 'talk.religion.misc_84223.txt',\n",
       " 'talk.religion.misc_84569.txt',\n",
       " 'talk.religion.misc_84344.txt',\n",
       " 'talk.religion.misc_83581.txt',\n",
       " 'talk.religion.misc_83624.txt',\n",
       " 'talk.religion.misc_84127.txt',\n",
       " 'talk.religion.misc_84210.txt',\n",
       " 'talk.religion.misc_83524.txt',\n",
       " 'talk.religion.misc_84219.txt',\n",
       " 'talk.religion.misc_84064.txt',\n",
       " 'talk.religion.misc_83519.txt',\n",
       " 'talk.religion.misc_83798.txt',\n",
       " 'talk.religion.misc_84077.txt',\n",
       " 'talk.religion.misc_84075.txt',\n",
       " 'talk.religion.misc_84279.txt',\n",
       " 'talk.religion.misc_83913.txt',\n",
       " 'talk.religion.misc_84292.txt',\n",
       " 'talk.religion.misc_84217.txt',\n",
       " 'talk.religion.misc_83705.txt',\n",
       " 'talk.religion.misc_84202.txt',\n",
       " 'talk.religion.misc_83842.txt',\n",
       " 'talk.religion.misc_83444.txt',\n",
       " 'talk.religion.misc_83505.txt',\n",
       " 'talk.religion.misc_84087.txt',\n",
       " 'talk.religion.misc_84142.txt',\n",
       " 'talk.religion.misc_84244.txt',\n",
       " 'talk.religion.misc_84506.txt',\n",
       " 'talk.religion.misc_84243.txt',\n",
       " 'talk.religion.misc_83830.txt',\n",
       " 'talk.religion.misc_84078.txt',\n",
       " 'talk.religion.misc_83680.txt',\n",
       " 'talk.religion.misc_83811.txt',\n",
       " 'talk.religion.misc_84277.txt',\n",
       " 'talk.religion.misc_83944.txt',\n",
       " 'talk.religion.misc_84254.txt',\n",
       " 'talk.religion.misc_84267.txt',\n",
       " 'talk.religion.misc_84269.txt',\n",
       " 'talk.religion.misc_84060.txt',\n",
       " 'talk.religion.misc_84280.txt',\n",
       " 'talk.religion.misc_84285.txt',\n",
       " 'talk.religion.misc_84213.txt',\n",
       " 'talk.religion.misc_84338.txt',\n",
       " 'talk.religion.misc_84021.txt',\n",
       " 'talk.religion.misc_84399.txt',\n",
       " 'talk.religion.misc_83805.txt',\n",
       " 'talk.religion.misc_83561.txt',\n",
       " 'talk.religion.misc_84396.txt',\n",
       " 'talk.religion.misc_84264.txt',\n",
       " 'talk.religion.misc_84345.txt',\n",
       " 'talk.religion.misc_84080.txt',\n",
       " 'talk.religion.misc_84226.txt',\n",
       " 'talk.religion.misc_84268.txt',\n",
       " 'talk.religion.misc_84189.txt',\n",
       " 'talk.religion.misc_83509.txt',\n",
       " 'talk.religion.misc_83844.txt',\n",
       " 'talk.religion.misc_83670.txt',\n",
       " 'talk.religion.misc_84397.txt',\n",
       " 'talk.religion.misc_83729.txt',\n",
       " 'talk.religion.misc_83568.txt',\n",
       " 'talk.religion.misc_84380.txt',\n",
       " 'talk.religion.misc_84273.txt',\n",
       " 'talk.religion.misc_84343.txt',\n",
       " 'talk.religion.misc_84072.txt',\n",
       " 'talk.religion.misc_83885.txt',\n",
       " 'talk.religion.misc_82815.txt',\n",
       " 'talk.religion.misc_83841.txt',\n",
       " 'talk.religion.misc_84178.txt',\n",
       " 'talk.religion.misc_84086.txt',\n",
       " 'talk.religion.misc_84164.txt',\n",
       " 'talk.religion.misc_83922.txt',\n",
       " 'talk.religion.misc_84429.txt',\n",
       " 'talk.religion.misc_84042.txt',\n",
       " 'talk.religion.misc_83706.txt',\n",
       " 'talk.religion.misc_83880.txt',\n",
       " 'talk.religion.misc_83937.txt',\n",
       " 'talk.religion.misc_83447.txt',\n",
       " 'talk.religion.misc_83661.txt',\n",
       " 'talk.religion.misc_84227.txt',\n",
       " 'talk.religion.misc_84319.txt',\n",
       " 'talk.religion.misc_84235.txt',\n",
       " 'talk.religion.misc_84145.txt',\n",
       " 'talk.religion.misc_83529.txt',\n",
       " 'talk.religion.misc_84020.txt',\n",
       " 'talk.religion.misc_83936.txt',\n",
       " 'talk.religion.misc_84009.txt',\n",
       " 'talk.religion.misc_84019.txt',\n",
       " 'talk.religion.misc_84430.txt',\n",
       " 'talk.religion.misc_83690.txt',\n",
       " 'talk.religion.misc_84224.txt',\n",
       " 'talk.religion.misc_83486.txt',\n",
       " 'talk.religion.misc_84056.txt',\n",
       " 'talk.religion.misc_84313.txt',\n",
       " 'talk.religion.misc_83992.txt',\n",
       " 'talk.religion.misc_84284.txt',\n",
       " 'talk.religion.misc_84138.txt',\n",
       " 'talk.religion.misc_83931.txt',\n",
       " 'talk.religion.misc_83468.txt',\n",
       " 'talk.religion.misc_83527.txt',\n",
       " 'talk.religion.misc_84121.txt',\n",
       " 'talk.religion.misc_84187.txt',\n",
       " 'talk.religion.misc_82776.txt',\n",
       " 'talk.religion.misc_84201.txt',\n",
       " 'talk.religion.misc_84250.txt',\n",
       " 'talk.religion.misc_84307.txt',\n",
       " 'talk.religion.misc_84230.txt',\n",
       " 'talk.religion.misc_84305.txt',\n",
       " 'talk.religion.misc_83544.txt',\n",
       " 'talk.religion.misc_82798.txt',\n",
       " 'talk.religion.misc_84247.txt',\n",
       " 'talk.religion.misc_84129.txt',\n",
       " 'talk.religion.misc_84159.txt',\n",
       " 'talk.religion.misc_84306.txt',\n",
       " 'talk.religion.misc_84565.txt',\n",
       " 'talk.religion.misc_84082.txt',\n",
       " 'talk.religion.misc_82802.txt',\n",
       " 'talk.religion.misc_84270.txt',\n",
       " 'talk.religion.misc_84150.txt',\n",
       " 'talk.religion.misc_83882.txt',\n",
       " 'talk.religion.misc_84063.txt',\n",
       " 'talk.religion.misc_83849.txt',\n",
       " 'talk.religion.misc_84205.txt',\n",
       " 'talk.religion.misc_83745.txt',\n",
       " 'talk.religion.misc_83659.txt',\n",
       " 'talk.religion.misc_84302.txt',\n",
       " 'talk.religion.misc_84266.txt',\n",
       " 'talk.religion.misc_83943.txt',\n",
       " 'talk.religion.misc_83895.txt',\n",
       " 'talk.religion.misc_84398.txt',\n",
       " 'talk.religion.misc_83456.txt',\n",
       " 'talk.religion.misc_84296.txt',\n",
       " 'talk.religion.misc_84242.txt',\n",
       " 'talk.religion.misc_83892.txt',\n",
       " 'talk.religion.misc_82787.txt',\n",
       " 'talk.religion.misc_83658.txt',\n",
       " 'talk.religion.misc_84106.txt',\n",
       " 'talk.religion.misc_83736.txt',\n",
       " 'talk.religion.misc_84124.txt',\n",
       " 'talk.religion.misc_84220.txt',\n",
       " 'talk.religion.misc_83528.txt',\n",
       " 'talk.religion.misc_84197.txt',\n",
       " 'talk.religion.misc_83512.txt',\n",
       " 'talk.religion.misc_84559.txt',\n",
       " 'talk.religion.misc_83523.txt',\n",
       " 'talk.religion.misc_83476.txt',\n",
       " 'talk.religion.misc_84260.txt',\n",
       " 'talk.religion.misc_84081.txt',\n",
       " 'talk.religion.misc_84208.txt',\n",
       " 'talk.religion.misc_84423.txt',\n",
       " 'talk.religion.misc_83457.txt',\n",
       " 'talk.religion.misc_83461.txt',\n",
       " 'talk.religion.misc_83450.txt',\n",
       " 'talk.religion.misc_84190.txt',\n",
       " 'talk.religion.misc_83701.txt',\n",
       " 'talk.religion.misc_84076.txt',\n",
       " 'talk.religion.misc_84067.txt',\n",
       " 'talk.religion.misc_83976.txt',\n",
       " 'talk.religion.misc_84433.txt',\n",
       " 'talk.religion.misc_83741.txt',\n",
       " 'talk.religion.misc_83803.txt',\n",
       " 'talk.religion.misc_84136.txt',\n",
       " 'talk.religion.misc_84448.txt',\n",
       " 'talk.religion.misc_83918.txt',\n",
       " 'talk.religion.misc_84300.txt',\n",
       " 'talk.religion.misc_83651.txt',\n",
       " 'talk.religion.misc_84015.txt',\n",
       " 'talk.religion.misc_83601.txt',\n",
       " 'talk.religion.misc_83975.txt',\n",
       " 'talk.religion.misc_82806.txt',\n",
       " 'talk.religion.misc_83714.txt',\n",
       " 'talk.religion.misc_84052.txt',\n",
       " 'talk.religion.misc_84435.txt',\n",
       " 'talk.religion.misc_84192.txt',\n",
       " 'talk.religion.misc_83602.txt',\n",
       " 'talk.religion.misc_84347.txt',\n",
       " 'talk.religion.misc_84439.txt',\n",
       " 'talk.religion.misc_84258.txt',\n",
       " 'talk.religion.misc_82794.txt',\n",
       " 'talk.religion.misc_84431.txt',\n",
       " 'talk.religion.misc_84238.txt',\n",
       " 'talk.religion.misc_83582.txt',\n",
       " 'talk.religion.misc_83494.txt',\n",
       " 'talk.religion.misc_84175.txt',\n",
       " 'talk.religion.misc_84055.txt',\n",
       " 'talk.religion.misc_83608.txt',\n",
       " 'talk.religion.misc_82786.txt',\n",
       " 'talk.religion.misc_83481.txt',\n",
       " 'talk.religion.misc_84510.txt',\n",
       " 'talk.religion.misc_84211.txt',\n",
       " 'talk.religion.misc_84158.txt',\n",
       " 'talk.religion.misc_82781.txt',\n",
       " 'talk.religion.misc_84151.txt',\n",
       " 'talk.religion.misc_83562.txt',\n",
       " 'talk.religion.misc_84315.txt',\n",
       " 'talk.religion.misc_83492.txt',\n",
       " 'talk.religion.misc_84303.txt',\n",
       " 'talk.religion.misc_82816.txt',\n",
       " 'talk.religion.misc_84336.txt',\n",
       " 'talk.religion.misc_84196.txt',\n",
       " 'talk.religion.misc_83610.txt',\n",
       " 'talk.religion.misc_83629.txt',\n",
       " 'talk.religion.misc_84008.txt',\n",
       " 'talk.religion.misc_82783.txt',\n",
       " 'talk.religion.misc_84332.txt',\n",
       " 'talk.religion.misc_83477.txt',\n",
       " 'talk.religion.misc_83919.txt',\n",
       " 'talk.religion.misc_82767.txt',\n",
       " 'talk.religion.misc_84194.txt',\n",
       " 'talk.religion.misc_83547.txt',\n",
       " 'talk.religion.misc_83800.txt',\n",
       " 'talk.religion.misc_84169.txt',\n",
       " 'talk.religion.misc_84100.txt',\n",
       " 'talk.religion.misc_83511.txt',\n",
       " 'talk.religion.misc_84200.txt',\n",
       " 'talk.religion.misc_83473.txt',\n",
       " 'talk.religion.misc_84357.txt',\n",
       " 'talk.religion.misc_83620.txt',\n",
       " 'talk.religion.misc_84321.txt',\n",
       " 'talk.religion.misc_84231.txt',\n",
       " 'talk.religion.misc_82804.txt',\n",
       " 'talk.religion.misc_83911.txt',\n",
       " 'talk.religion.misc_83795.txt',\n",
       " 'talk.religion.misc_84099.txt',\n",
       " 'talk.religion.misc_84441.txt',\n",
       " 'talk.religion.misc_84188.txt',\n",
       " 'talk.religion.misc_83438.txt',\n",
       " 'talk.religion.misc_83587.txt',\n",
       " 'talk.religion.misc_84183.txt',\n",
       " 'talk.religion.misc_84059.txt',\n",
       " 'talk.religion.misc_83623.txt',\n",
       " 'talk.religion.misc_84331.txt',\n",
       " 'talk.religion.misc_83929.txt',\n",
       " 'talk.religion.misc_83482.txt',\n",
       " 'talk.religion.misc_82784.txt',\n",
       " 'talk.religion.misc_84234.txt',\n",
       " 'talk.religion.misc_83686.txt',\n",
       " 'talk.religion.misc_84066.txt',\n",
       " 'talk.religion.misc_84237.txt',\n",
       " 'talk.religion.misc_83650.txt',\n",
       " 'talk.religion.misc_84309.txt',\n",
       " 'talk.religion.misc_84255.txt',\n",
       " 'talk.religion.misc_82810.txt',\n",
       " 'talk.religion.misc_84259.txt',\n",
       " 'talk.religion.misc_83980.txt',\n",
       " 'talk.religion.misc_82792.txt',\n",
       " 'talk.religion.misc_84349.txt',\n",
       " 'talk.religion.misc_83902.txt',\n",
       " 'talk.religion.misc_84228.txt',\n",
       " 'talk.religion.misc_83999.txt',\n",
       " 'talk.religion.misc_84221.txt',\n",
       " 'talk.religion.misc_83905.txt',\n",
       " 'talk.religion.misc_84326.txt',\n",
       " 'talk.religion.misc_83829.txt',\n",
       " 'talk.religion.misc_84452.txt',\n",
       " 'talk.religion.misc_84414.txt',\n",
       " 'talk.religion.misc_84253.txt',\n",
       " 'talk.religion.misc_83516.txt',\n",
       " 'talk.religion.misc_84123.txt',\n",
       " 'talk.religion.misc_83503.txt',\n",
       " 'talk.religion.misc_84570.txt',\n",
       " 'talk.religion.misc_84069.txt',\n",
       " 'talk.religion.misc_84354.txt',\n",
       " 'talk.religion.misc_83995.txt',\n",
       " 'talk.religion.misc_84157.txt',\n",
       " 'talk.religion.misc_84447.txt',\n",
       " 'talk.religion.misc_83727.txt',\n",
       " 'talk.religion.misc_84555.txt',\n",
       " 'talk.religion.misc_84186.txt',\n",
       " 'talk.religion.misc_83687.txt',\n",
       " 'talk.religion.misc_83499.txt',\n",
       " 'talk.religion.misc_84316.txt',\n",
       " 'talk.religion.misc_83713.txt',\n",
       " 'talk.religion.misc_82760.txt',\n",
       " 'talk.religion.misc_84311.txt',\n",
       " 'talk.religion.misc_84434.txt',\n",
       " 'talk.religion.misc_84450.txt',\n",
       " 'talk.religion.misc_84352.txt',\n",
       " 'talk.religion.misc_84071.txt',\n",
       " 'talk.religion.misc_83630.txt',\n",
       " 'talk.religion.misc_83777.txt',\n",
       " 'talk.religion.misc_83719.txt',\n",
       " 'talk.religion.misc_84342.txt',\n",
       " 'talk.religion.misc_84025.txt',\n",
       " 'talk.religion.misc_84132.txt',\n",
       " 'talk.religion.misc_84074.txt',\n",
       " 'talk.religion.misc_83776.txt',\n",
       " 'talk.religion.misc_83711.txt',\n",
       " 'talk.religion.misc_83691.txt',\n",
       " 'talk.religion.misc_83891.txt',\n",
       " 'talk.religion.misc_84283.txt',\n",
       " 'talk.religion.misc_83740.txt',\n",
       " 'talk.religion.misc_83591.txt',\n",
       " 'talk.religion.misc_83515.txt',\n",
       " 'talk.religion.misc_82771.txt',\n",
       " 'talk.religion.misc_83614.txt',\n",
       " 'talk.religion.misc_83847.txt',\n",
       " 'talk.religion.misc_84152.txt',\n",
       " 'talk.religion.misc_83470.txt',\n",
       " 'talk.religion.misc_83484.txt',\n",
       " 'talk.religion.misc_84293.txt',\n",
       " 'talk.religion.misc_84014.txt',\n",
       " 'talk.religion.misc_83517.txt',\n",
       " 'talk.religion.misc_84125.txt',\n",
       " 'talk.religion.misc_83646.txt',\n",
       " 'talk.religion.misc_84568.txt',\n",
       " 'talk.religion.misc_83681.txt',\n",
       " 'talk.religion.misc_84299.txt',\n",
       " 'talk.religion.misc_82808.txt',\n",
       " 'talk.religion.misc_84131.txt',\n",
       " 'talk.religion.misc_84024.txt',\n",
       " 'talk.religion.misc_84340.txt',\n",
       " 'talk.religion.misc_83463.txt',\n",
       " 'talk.religion.misc_84325.txt',\n",
       " 'talk.religion.misc_83863.txt',\n",
       " 'talk.religion.misc_83901.txt',\n",
       " 'talk.religion.misc_84233.txt',\n",
       " 'talk.religion.misc_83704.txt',\n",
       " 'talk.religion.misc_84070.txt',\n",
       " 'talk.religion.misc_83827.txt',\n",
       " 'talk.religion.misc_84113.txt',\n",
       " 'talk.religion.misc_84246.txt',\n",
       " 'talk.religion.misc_83643.txt',\n",
       " 'talk.religion.misc_84314.txt',\n",
       " 'talk.religion.misc_82758.txt',\n",
       " 'talk.religion.misc_82814.txt',\n",
       " 'talk.religion.misc_84137.txt',\n",
       " 'talk.religion.misc_84560.txt',\n",
       " 'talk.religion.misc_83518.txt',\n",
       " 'talk.religion.misc_83660.txt',\n",
       " 'talk.religion.misc_82779.txt',\n",
       " 'talk.religion.misc_83440.txt',\n",
       " 'talk.religion.misc_84351.txt',\n",
       " 'talk.religion.misc_83783.txt',\n",
       " 'talk.religion.misc_84256.txt',\n",
       " 'talk.religion.misc_83558.txt',\n",
       " 'talk.religion.misc_83460.txt',\n",
       " 'talk.religion.misc_83490.txt',\n",
       " 'talk.religion.misc_84511.txt',\n",
       " 'talk.religion.misc_84085.txt',\n",
       " 'talk.religion.misc_84509.txt',\n",
       " 'talk.religion.misc_84271.txt',\n",
       " 'talk.religion.misc_84216.txt',\n",
       " 'talk.religion.misc_83609.txt',\n",
       " 'talk.religion.misc_84451.txt',\n",
       " 'talk.religion.misc_83677.txt',\n",
       " 'talk.religion.misc_83585.txt',\n",
       " 'talk.religion.misc_84262.txt',\n",
       " 'talk.religion.misc_83848.txt',\n",
       " 'talk.religion.misc_84323.txt',\n",
       " 'talk.religion.misc_84122.txt',\n",
       " 'talk.religion.misc_84092.txt',\n",
       " 'talk.religion.misc_84225.txt',\n",
       " 'talk.religion.misc_83732.txt',\n",
       " 'talk.religion.misc_84563.txt',\n",
       " 'talk.religion.misc_83884.txt',\n",
       " 'talk.religion.misc_84443.txt',\n",
       " 'talk.religion.misc_84327.txt',\n",
       " 'talk.religion.misc_84360.txt',\n",
       " 'talk.religion.misc_84206.txt',\n",
       " 'talk.religion.misc_83642.txt',\n",
       " 'talk.religion.misc_83617.txt',\n",
       " 'talk.religion.misc_84053.txt',\n",
       " 'talk.religion.misc_84097.txt',\n",
       " 'talk.religion.misc_84141.txt',\n",
       " 'talk.religion.misc_84214.txt',\n",
       " 'talk.religion.misc_83507.txt',\n",
       " 'talk.religion.misc_84324.txt',\n",
       " 'talk.religion.misc_84449.txt',\n",
       " 'talk.religion.misc_84130.txt',\n",
       " 'talk.religion.misc_84073.txt',\n",
       " 'talk.religion.misc_83722.txt',\n",
       " 'talk.religion.misc_83522.txt',\n",
       " 'talk.religion.misc_84440.txt',\n",
       " 'talk.religion.misc_84058.txt',\n",
       " 'talk.religion.misc_84320.txt',\n",
       " 'talk.religion.misc_84047.txt',\n",
       " ...]"
      ]
     },
     "execution_count": 53,
     "metadata": {
      "tags": []
     },
     "output_type": "execute_result"
    }
   ],
   "source": [
    "path = '/content/gdrive/My Drive/Colab Notebooks/CNN on Text data/documents/documents/'\n",
    "\n",
    "file_list = os.listdir(path)\n",
    "\n",
    "file_list\n"
   ]
  },
  {
   "cell_type": "code",
   "execution_count": null,
   "metadata": {
    "colab": {
     "base_uri": "https://localhost:8080/"
    },
    "id": "59eCJfHkxXdx",
    "outputId": "7ebb436d-4103-4f61-c418-d772386976b3"
   },
   "outputs": [
    {
     "name": "stdout",
     "output_type": "stream",
     "text": [
      "['alt.atheism_49960.txt']\n",
      "\n",
      "['Alt Atheism FAQAtheist Resources']\n",
      "\n",
      "['netcom mantis']\n",
      "\n",
      "['atheist resourcesaddressesatheist organizationsusafreedom from religion foundationdarwin fish bumper stickers and assorted other atheist paraphernalia areavailable from the freedom from religion foundationtheevolution designsevolution designs sell the darwin fishfish symbol like the oneschristians sticktheir cars but with feet and the word darwin writteinside the deluxe mouldedplastic fishpostpaidthepeoplethe san francisco bay area can get darwin fish from lynn goldfor net people who lynn directly thepriceper fishamerican atheist pressaap publish various atheist books critiquesthe bible liststhe bible handbook ball andfoote american atheist pressisbnedition bible contradictionscontradicts itself aap basedthe king james versionthe bibcameron road austinprometheus booksprometheus books glenn drive buffalofor humanismorganization promoting black secular humanism and uncovering the historyblack freethought they publishquarterly newsletter aah examinerbuffalounited kingdomrationalist press association national secular societyislington high street holloway roadlondon londonbritish humanist association south place ethical societylambconduit passage conwaylondon wcrred lion squarelondon wcrfaxthe national secular society publish the freethinkermonthly magazinefoundedgermanyibkabund derundpostfachberlin germanymiz materialien und informationen zur zeit politischesjournal derund atheisten hrsg ibkamizvertrieb postfachberlin germanyibdkbucherdienst derpostfachhannover germanybooks fictionthomasdischthe santa claus compromiseshort story the ultimate proof that santa exists all characters andevents are fictitious any similaritylivingdead godswellwaltermillercanticle for leibowitzone gemthis post atomic doomsday novelthe monks who spent their livescopying blueprints from saint leibowitz filling the sheetspaper withink and leaving white lines and lettersedgar pangborndavypost atomic doomsday novel setclerical states the church for exampleforbids that anyone produce describeuse any substance containingatomsphilipdickphilipdick dick wrote many philosophical andshortstories and novels his stories are bizarretimes but very approachablewrote mainlybutwrote about people truth and religion rather thantechnology althoughoften believed thathad met some sortgodgalactic pothealerfallible alien deity summonsgroupearth craftsmen and womenremote planetraisegiant cathedral from beneath the oceans when thedeity beginsdemand faith from the earthers pothealer joe fernwrightunablecomplypolished ironic and amusing novelmazedeathnoteworthy for its descriptionreligionvalisthe schizophrenic hero searches for the hidden mysteriesgnosticchristianity after realityfired into his brain pink laser beamunknown but possibly divine origin accompaniedhis dogmatic anddismissively atheist friend and assorted other odd charactersthe divine invasiongod invades earthmakingyoung woman pregnantshe returns fromanother star system unfortunately sheterminally ill and mustassisted dead man whose brainwiredhour easy listening musicmargaret atwoodthe handmaidstory basedthe premise that thecongressmysteriouslyassassinated andquickly take chargethe nationsetright again the bookthe diary womanlifeshe triesliveunder the new christian theocracy womenrightown propertyrevokedand their bank accounts are closed sinful luxuries are outlawed and theradioonly used for readings from the bible crimes are punishedhunted down and hanged atwoodwriting styledifficultget usedfirst but the tale grows more and more chilling goesvarious authorsthe biblethis somewhat dull and rambling work has often been criticized howeverprobably worth readingonlythat you will know what all the fussaboutexistsmany different versionsmake sure you get the onetrue versionbooks nonfictionpeterrosavicarschrist bantam pressalthoughrosa seems christianeven catholic this veryenlighting historypapal immoralities adulteries fallacies etcgerman translation gottes erste diener die dunkle seite desdroemerknaurmichael martinatheismphilosophical justification temple university pressphiladelphia usadetailed and scholarly justificationatheism containsoutstandingtendentiousarea argues both for negative atheismthe nonbelieftheand also for positive atheism the belieftheincludes great refutationsthe mostchallenging arguments for god particular attentionpaidrefutingcontempory theists suchplatinga and swinburnethe case against christianity temple university presscomprehensive critiquechristianitywhichconsidersdemonstrates that they are unsupportable andor incoherentpages isbnjames turnerwithout god without creed the johns hopkins university press baltimoreusasubtitled the originsunbeliefamerica examines the waywhichbecamemainstream alternativeworldview focussesthe period and while considering franceand britain the emphasis american and particularly new englanddevelopments neitherreligious historysecularizationatheismwithout god without creedrather the intellectual historythe fatsingle idea the belief that god existsthe great thoughts ballantine books new york usadictionaryquotations different kind concentratingstatementsand writings which explicitlyimplicitly present the personphilosophyopinions from manypeople for some popular observations traces the waywhich variouspeople expressed and twisted the idea over the centuries quitenumberthe quotations are derived from cardiffwhat great men thinkreligioand noyesviewsreligionrichard swinburneclarendon paperbacks oxfthis bookthe second volume trilogy that began with the coherencethiswork swinburne attemptsconstructseriesinductive arguments for theexistencegod his arguments which are somewhat tendentious and relyupon the imputationlatecentury western christian values andaesthetics god whichsupposedlysimplecanconceived weredecisively rejectedmackiethe miracletheismthe revisededitionthe existencegod swinburne includesappendixwhichmakessomewhat incoherent attemptrebutmackiethe miracletheism oxfordvolume containscomprehensive reviewthe principalarguments for and against the existencegodranges from the classicalphilosophical positionsdescartes anselm berkeley hume throughthe moral argumentsnewman kant and sidgwickthe recent restatementsthe classical thesesplantinga and swinburnealso addresses thosepositions which push the conceptgod beyond the realmthe rationalsuchthosekierkegaard kung and philipswellreplacements forgod suchlelieaxiarchism the book delightread lessformalistic and better written than martinworks and refreshingly direcwhen compared with the handwavingswinburnejameshaughtholy horrorsillustrated historyreligious murder and madnessprometheus bookslooksreligious persecution from ancient timesthe present day andnot onlychristianslibrarycongress catalog card numbernormallenafrican american humanismanthologysee the listing for african americans for humanism abovegordon steinanthologyatheism and rationalism prometheusanthology coveringwide rangesubjects including the devil eviland moralityand the historyfreethoughtcomprehensive bibliographyedmundcohenthe mindthe biblebeliever prometheus booksstudywhy people become christianand what effecthasthemnet resourcesthere small mailbased archive servermantiscouk which carriesarchivesoldarticles and assorted other files formore information send mail sayinghelpsend atheismindexandwill mail backreplymathew']\n",
      "\n"
     ]
    }
   ],
   "source": [
    "# Extracting text, email and subject from ---> alt.atheism_49960.txt\n",
    "preprocessed_subject_list, preprocessed_email_list, preprocessed_text_list, raw_text_list, name = pre_process_text_file_specific(file_list)\n",
    "\n",
    "\n",
    "print(name)\n",
    "print()\n",
    "print(preprocessed_subject_list)\n",
    "print()\n",
    "print(preprocessed_email_list)\n",
    "print()\n",
    "print(preprocessed_text_list)\n",
    "print()\n"
   ]
  },
  {
   "cell_type": "code",
   "execution_count": null,
   "metadata": {
    "id": "W9U9sJMVxbRZ"
   },
   "outputs": [],
   "source": [
    "preprocessed_subject_list, preprocessed_email_list, preprocessed_text_list, raw_text_list = pre_process_text_file(file_list)"
   ]
  },
  {
   "cell_type": "code",
   "execution_count": null,
   "metadata": {
    "id": "Hc-1U3DASE9E"
   },
   "outputs": [],
   "source": [
    "fileNames = []\n",
    "\n",
    "for i, file in enumerate(file_list):\n",
    "    fileNames.append(file.split(\"_\")[0])"
   ]
  },
  {
   "cell_type": "code",
   "execution_count": null,
   "metadata": {
    "id": "Y_daxhUmSE9H"
   },
   "outputs": [],
   "source": [
    "# Data Frame"
   ]
  },
  {
   "cell_type": "code",
   "execution_count": null,
   "metadata": {
    "colab": {
     "base_uri": "https://localhost:8080/"
    },
    "id": "ct2m25UjSE9N",
    "outputId": "4da2bf78-94ff-4ca1-9d7d-15e8d3a92bdc"
   },
   "outputs": [
    {
     "data": {
      "text/plain": [
       "(18828, 18828, 18828, 18828, 'fileNames')"
      ]
     },
     "execution_count": 59,
     "metadata": {
      "tags": []
     },
     "output_type": "execute_result"
    }
   ],
   "source": [
    "len(preprocessed_email_list), len(preprocessed_subject_list), len(preprocessed_text_list), len(raw_text_list), \"fileNames\""
   ]
  },
  {
   "cell_type": "code",
   "execution_count": null,
   "metadata": {
    "colab": {
     "base_uri": "https://localhost:8080/",
     "height": 597
    },
    "id": "0d4l-BoHSE9Q",
    "outputId": "796b9a4e-e82f-4f21-cf83-415e61fcb753"
   },
   "outputs": [
    {
     "data": {
      "text/html": [
       "<div>\n",
       "<style scoped>\n",
       "    .dataframe tbody tr th:only-of-type {\n",
       "        vertical-align: middle;\n",
       "    }\n",
       "\n",
       "    .dataframe tbody tr th {\n",
       "        vertical-align: top;\n",
       "    }\n",
       "\n",
       "    .dataframe thead th {\n",
       "        text-align: right;\n",
       "    }\n",
       "</style>\n",
       "<table border=\"1\" class=\"dataframe\">\n",
       "  <thead>\n",
       "    <tr style=\"text-align: right;\">\n",
       "      <th></th>\n",
       "      <th>pre_emails</th>\n",
       "      <th>pre_subject</th>\n",
       "      <th>pre_text</th>\n",
       "      <th>text</th>\n",
       "      <th>class</th>\n",
       "    </tr>\n",
       "  </thead>\n",
       "  <tbody>\n",
       "    <tr>\n",
       "      <th>0</th>\n",
       "      <td>aston uhura apexgrp terminus halcyon</td>\n",
       "      <td>ReNew Study Out On Gay Percentage</td>\n",
       "      <td>bzzzzt thank you for playing but obviously you...</td>\n",
       "      <td>From: evansmp@uhura.aston.ac.uk (Mark Evans)\\n...</td>\n",
       "      <td>talk.politics.misc</td>\n",
       "    </tr>\n",
       "    <tr>\n",
       "      <th>1</th>\n",
       "      <td>uhura optilink COM galileo rochester edu</td>\n",
       "      <td>ReNew Study Out On Gay Percentage</td>\n",
       "      <td>writesusedthink that homosexuals werebut havng...</td>\n",
       "      <td>From: cramer@optilink.COM (Clayton Cramer)\\nSu...</td>\n",
       "      <td>talk.politics.misc</td>\n",
       "    </tr>\n",
       "    <tr>\n",
       "      <th>2</th>\n",
       "      <td>psuvm INS Edu usenet Freenet psu CWRU edu clev...</td>\n",
       "      <td>ReTop Ten Excuses for Slick Willie s Record Se...</td>\n",
       "      <td>sayssayssayssure does appear that way does not...</td>\n",
       "      <td>From: Mark 'Mark' Sachs &lt;MBS110@psuvm.psu.edu&gt;...</td>\n",
       "      <td>talk.politics.misc</td>\n",
       "    </tr>\n",
       "    <tr>\n",
       "      <th>3</th>\n",
       "      <td>Campaign92 alchemy Org mit life edu utoronto chem</td>\n",
       "      <td>ReCLINTONRemarks by the President on Waco wQ A...</td>\n",
       "      <td>the white houseofficethe press secretaryfor im...</td>\n",
       "      <td>From: golchowy@alchemy.chem.utoronto.ca (Geral...</td>\n",
       "      <td>talk.politics.misc</td>\n",
       "    </tr>\n",
       "    <tr>\n",
       "      <th>4</th>\n",
       "      <td>NCR netcom COM ncratl AtlantaGA</td>\n",
       "      <td>ReTemper tantrums from the 1960 s</td>\n",
       "      <td>what will youforreligion now that deadwho said...</td>\n",
       "      <td>From: mwilson@ncratl.AtlantaGA.NCR.COM (Mark W...</td>\n",
       "      <td>talk.politics.misc</td>\n",
       "    </tr>\n",
       "    <tr>\n",
       "      <th>...</th>\n",
       "      <td>...</td>\n",
       "      <td>...</td>\n",
       "      <td>...</td>\n",
       "      <td>...</td>\n",
       "      <td>...</td>\n",
       "    </tr>\n",
       "    <tr>\n",
       "      <th>18823</th>\n",
       "      <td>fido asd solntze buphy wpd sgi edu</td>\n",
       "      <td>ReYet more RushdieISLAMIC LAW</td>\n",
       "      <td>writeshopeislamic banksomething other than bcc...</td>\n",
       "      <td>From: livesey@solntze.wpd.sgi.com (Jon Livesey...</td>\n",
       "      <td>alt.atheism</td>\n",
       "    </tr>\n",
       "    <tr>\n",
       "      <th>18824</th>\n",
       "      <td>buphy dbstu1 tubs edu</td>\n",
       "      <td>ReThe Inimitable Rushdie</td>\n",
       "      <td>assume that you say herereligious lawfor the f...</td>\n",
       "      <td>From: jaeger@buphy.bu.edu (Gregg Jaeger)\\nSubj...</td>\n",
       "      <td>alt.atheism</td>\n",
       "    </tr>\n",
       "    <tr>\n",
       "      <th>18825</th>\n",
       "      <td>galki toppoint alice att</td>\n",
       "      <td>ReTIFFphilosophical significance of 42</td>\n",
       "      <td>does anyone have any other suggestions where t...</td>\n",
       "      <td>From: td@alice.att.com (Tom Duff)\\nSubject: Re...</td>\n",
       "      <td>comp.graphics</td>\n",
       "    </tr>\n",
       "    <tr>\n",
       "      <th>18826</th>\n",
       "      <td>isc rit cco CWRU gap edu mantis ultb caltech</td>\n",
       "      <td>Re Political Atheists</td>\n",
       "      <td>writesfor rape surely there the burdenguiltsol...</td>\n",
       "      <td>From: kmr4@po.CWRU.edu (Keith M. Ryan)\\nSubjec...</td>\n",
       "      <td>alt.atheism</td>\n",
       "    </tr>\n",
       "    <tr>\n",
       "      <th>18827</th>\n",
       "      <td>solntze cco wpd CWRU gap sgi edu caltech</td>\n",
       "      <td>Re Cruel wasPolitical Atheists</td>\n",
       "      <td>writesbut this just shows then that painful ex...</td>\n",
       "      <td>From: livesey@solntze.wpd.sgi.com (Jon Livesey...</td>\n",
       "      <td>alt.atheism</td>\n",
       "    </tr>\n",
       "  </tbody>\n",
       "</table>\n",
       "<p>18828 rows × 5 columns</p>\n",
       "</div>"
      ],
      "text/plain": [
       "                                              pre_emails  ...               class\n",
       "0                   aston uhura apexgrp terminus halcyon  ...  talk.politics.misc\n",
       "1               uhura optilink COM galileo rochester edu  ...  talk.politics.misc\n",
       "2      psuvm INS Edu usenet Freenet psu CWRU edu clev...  ...  talk.politics.misc\n",
       "3      Campaign92 alchemy Org mit life edu utoronto chem  ...  talk.politics.misc\n",
       "4                        NCR netcom COM ncratl AtlantaGA  ...  talk.politics.misc\n",
       "...                                                  ...  ...                 ...\n",
       "18823                 fido asd solntze buphy wpd sgi edu  ...         alt.atheism\n",
       "18824                              buphy dbstu1 tubs edu  ...         alt.atheism\n",
       "18825                           galki toppoint alice att  ...       comp.graphics\n",
       "18826       isc rit cco CWRU gap edu mantis ultb caltech  ...         alt.atheism\n",
       "18827           solntze cco wpd CWRU gap sgi edu caltech  ...         alt.atheism\n",
       "\n",
       "[18828 rows x 5 columns]"
      ]
     },
     "execution_count": 60,
     "metadata": {
      "tags": []
     },
     "output_type": "execute_result"
    }
   ],
   "source": [
    "data = {\"pre_emails\":preprocessed_email_list, \"pre_subject\":preprocessed_subject_list, \"pre_text\":preprocessed_text_list,\"text\":raw_text_list, \"class\":fileNames}\n",
    "df_1 = pd.DataFrame(data)\n",
    "\n",
    "len(preprocessed_text_list), len(preprocessed_email_list) ,len(preprocessed_subject_list), len(fileNames)\n",
    "\n",
    "\n",
    "df_1"
   ]
  },
  {
   "cell_type": "markdown",
   "metadata": {
    "id": "sU4DPwdaSE9V"
   },
   "source": [
    "# Combining 3 columns to a single column"
   ]
  },
  {
   "cell_type": "code",
   "execution_count": null,
   "metadata": {
    "id": "494ey1qLSE9W"
   },
   "outputs": [],
   "source": [
    "df_2 = df_1.assign(x = df_1.pre_emails.astype(str) +\" \" + df_1.pre_subject.astype(str)+ \" \" + df_1.pre_text.astype(str))\n",
    "df_2 = df_2.drop([\"pre_emails\", \"pre_subject\", \"pre_text\", 'text'], axis=1)"
   ]
  },
  {
   "cell_type": "code",
   "execution_count": null,
   "metadata": {
    "colab": {
     "base_uri": "https://localhost:8080/"
    },
    "id": "8iQ0tJR-SE9a",
    "outputId": "675f4708-a84c-4f69-e0d5-27096eed7a68"
   },
   "outputs": [
    {
     "data": {
      "text/html": [
       "<div>\n",
       "<style scoped>\n",
       "    .dataframe tbody tr th:only-of-type {\n",
       "        vertical-align: middle;\n",
       "    }\n",
       "\n",
       "    .dataframe tbody tr th {\n",
       "        vertical-align: top;\n",
       "    }\n",
       "\n",
       "    .dataframe thead th {\n",
       "        text-align: right;\n",
       "    }\n",
       "</style>\n",
       "<table border=\"1\" class=\"dataframe\">\n",
       "  <thead>\n",
       "    <tr style=\"text-align: right;\">\n",
       "      <th></th>\n",
       "      <th>class</th>\n",
       "      <th>x</th>\n",
       "    </tr>\n",
       "  </thead>\n",
       "  <tbody>\n",
       "    <tr>\n",
       "      <th>0</th>\n",
       "      <td>talk.politics.misc</td>\n",
       "      <td>aston uhura apexgrp terminus halcyon ReNew Stu...</td>\n",
       "    </tr>\n",
       "    <tr>\n",
       "      <th>1</th>\n",
       "      <td>talk.politics.misc</td>\n",
       "      <td>uhura optilink COM galileo rochester edu ReNew...</td>\n",
       "    </tr>\n",
       "    <tr>\n",
       "      <th>2</th>\n",
       "      <td>talk.politics.misc</td>\n",
       "      <td>psuvm INS Edu usenet Freenet psu CWRU edu clev...</td>\n",
       "    </tr>\n",
       "    <tr>\n",
       "      <th>3</th>\n",
       "      <td>talk.politics.misc</td>\n",
       "      <td>Campaign92 alchemy Org mit life edu utoronto c...</td>\n",
       "    </tr>\n",
       "    <tr>\n",
       "      <th>4</th>\n",
       "      <td>talk.politics.misc</td>\n",
       "      <td>NCR netcom COM ncratl AtlantaGA ReTemper tantr...</td>\n",
       "    </tr>\n",
       "    <tr>\n",
       "      <th>...</th>\n",
       "      <td>...</td>\n",
       "      <td>...</td>\n",
       "    </tr>\n",
       "    <tr>\n",
       "      <th>18823</th>\n",
       "      <td>alt.atheism</td>\n",
       "      <td>fido asd solntze buphy wpd sgi edu ReYet more ...</td>\n",
       "    </tr>\n",
       "    <tr>\n",
       "      <th>18824</th>\n",
       "      <td>alt.atheism</td>\n",
       "      <td>buphy dbstu1 tubs edu ReThe Inimitable Rushdie...</td>\n",
       "    </tr>\n",
       "    <tr>\n",
       "      <th>18825</th>\n",
       "      <td>comp.graphics</td>\n",
       "      <td>galki toppoint alice att ReTIFFphilosophical s...</td>\n",
       "    </tr>\n",
       "    <tr>\n",
       "      <th>18826</th>\n",
       "      <td>alt.atheism</td>\n",
       "      <td>isc rit cco CWRU gap edu mantis ultb caltech R...</td>\n",
       "    </tr>\n",
       "    <tr>\n",
       "      <th>18827</th>\n",
       "      <td>alt.atheism</td>\n",
       "      <td>solntze cco wpd CWRU gap sgi edu caltech Re Cr...</td>\n",
       "    </tr>\n",
       "  </tbody>\n",
       "</table>\n",
       "<p>18828 rows × 2 columns</p>\n",
       "</div>"
      ],
      "text/plain": [
       "                    class                                                  x\n",
       "0      talk.politics.misc  aston uhura apexgrp terminus halcyon ReNew Stu...\n",
       "1      talk.politics.misc  uhura optilink COM galileo rochester edu ReNew...\n",
       "2      talk.politics.misc  psuvm INS Edu usenet Freenet psu CWRU edu clev...\n",
       "3      talk.politics.misc  Campaign92 alchemy Org mit life edu utoronto c...\n",
       "4      talk.politics.misc  NCR netcom COM ncratl AtlantaGA ReTemper tantr...\n",
       "...                   ...                                                ...\n",
       "18823         alt.atheism  fido asd solntze buphy wpd sgi edu ReYet more ...\n",
       "18824         alt.atheism  buphy dbstu1 tubs edu ReThe Inimitable Rushdie...\n",
       "18825       comp.graphics  galki toppoint alice att ReTIFFphilosophical s...\n",
       "18826         alt.atheism  isc rit cco CWRU gap edu mantis ultb caltech R...\n",
       "18827         alt.atheism  solntze cco wpd CWRU gap sgi edu caltech Re Cr...\n",
       "\n",
       "[18828 rows x 2 columns]"
      ]
     },
     "execution_count": 62,
     "metadata": {
      "tags": []
     },
     "output_type": "execute_result"
    }
   ],
   "source": [
    "df_2"
   ]
  },
  {
   "cell_type": "code",
   "execution_count": null,
   "metadata": {
    "id": "4P5JvrlySE9f"
   },
   "outputs": [],
   "source": [
    "le = preprocessing.LabelEncoder()\n",
    "le.fit(df_2['class'])\n",
    "df_2['class'] = le.transform(df_2['class'])"
   ]
  },
  {
   "cell_type": "code",
   "execution_count": null,
   "metadata": {
    "colab": {
     "base_uri": "https://localhost:8080/"
    },
    "id": "xXg9FshUSE9k",
    "outputId": "ec7cd08b-a1a7-4a4f-bf34-ae3bfb394d3f"
   },
   "outputs": [
    {
     "data": {
      "text/html": [
       "<div>\n",
       "<style scoped>\n",
       "    .dataframe tbody tr th:only-of-type {\n",
       "        vertical-align: middle;\n",
       "    }\n",
       "\n",
       "    .dataframe tbody tr th {\n",
       "        vertical-align: top;\n",
       "    }\n",
       "\n",
       "    .dataframe thead th {\n",
       "        text-align: right;\n",
       "    }\n",
       "</style>\n",
       "<table border=\"1\" class=\"dataframe\">\n",
       "  <thead>\n",
       "    <tr style=\"text-align: right;\">\n",
       "      <th></th>\n",
       "      <th>class</th>\n",
       "      <th>x</th>\n",
       "    </tr>\n",
       "  </thead>\n",
       "  <tbody>\n",
       "    <tr>\n",
       "      <th>0</th>\n",
       "      <td>18</td>\n",
       "      <td>aston uhura apexgrp terminus halcyon ReNew Stu...</td>\n",
       "    </tr>\n",
       "    <tr>\n",
       "      <th>1</th>\n",
       "      <td>18</td>\n",
       "      <td>uhura optilink COM galileo rochester edu ReNew...</td>\n",
       "    </tr>\n",
       "    <tr>\n",
       "      <th>2</th>\n",
       "      <td>18</td>\n",
       "      <td>psuvm INS Edu usenet Freenet psu CWRU edu clev...</td>\n",
       "    </tr>\n",
       "    <tr>\n",
       "      <th>3</th>\n",
       "      <td>18</td>\n",
       "      <td>Campaign92 alchemy Org mit life edu utoronto c...</td>\n",
       "    </tr>\n",
       "    <tr>\n",
       "      <th>4</th>\n",
       "      <td>18</td>\n",
       "      <td>NCR netcom COM ncratl AtlantaGA ReTemper tantr...</td>\n",
       "    </tr>\n",
       "    <tr>\n",
       "      <th>...</th>\n",
       "      <td>...</td>\n",
       "      <td>...</td>\n",
       "    </tr>\n",
       "    <tr>\n",
       "      <th>18823</th>\n",
       "      <td>0</td>\n",
       "      <td>fido asd solntze buphy wpd sgi edu ReYet more ...</td>\n",
       "    </tr>\n",
       "    <tr>\n",
       "      <th>18824</th>\n",
       "      <td>0</td>\n",
       "      <td>buphy dbstu1 tubs edu ReThe Inimitable Rushdie...</td>\n",
       "    </tr>\n",
       "    <tr>\n",
       "      <th>18825</th>\n",
       "      <td>1</td>\n",
       "      <td>galki toppoint alice att ReTIFFphilosophical s...</td>\n",
       "    </tr>\n",
       "    <tr>\n",
       "      <th>18826</th>\n",
       "      <td>0</td>\n",
       "      <td>isc rit cco CWRU gap edu mantis ultb caltech R...</td>\n",
       "    </tr>\n",
       "    <tr>\n",
       "      <th>18827</th>\n",
       "      <td>0</td>\n",
       "      <td>solntze cco wpd CWRU gap sgi edu caltech Re Cr...</td>\n",
       "    </tr>\n",
       "  </tbody>\n",
       "</table>\n",
       "<p>18828 rows × 2 columns</p>\n",
       "</div>"
      ],
      "text/plain": [
       "       class                                                  x\n",
       "0         18  aston uhura apexgrp terminus halcyon ReNew Stu...\n",
       "1         18  uhura optilink COM galileo rochester edu ReNew...\n",
       "2         18  psuvm INS Edu usenet Freenet psu CWRU edu clev...\n",
       "3         18  Campaign92 alchemy Org mit life edu utoronto c...\n",
       "4         18  NCR netcom COM ncratl AtlantaGA ReTemper tantr...\n",
       "...      ...                                                ...\n",
       "18823      0  fido asd solntze buphy wpd sgi edu ReYet more ...\n",
       "18824      0  buphy dbstu1 tubs edu ReThe Inimitable Rushdie...\n",
       "18825      1  galki toppoint alice att ReTIFFphilosophical s...\n",
       "18826      0  isc rit cco CWRU gap edu mantis ultb caltech R...\n",
       "18827      0  solntze cco wpd CWRU gap sgi edu caltech Re Cr...\n",
       "\n",
       "[18828 rows x 2 columns]"
      ]
     },
     "execution_count": 64,
     "metadata": {
      "tags": []
     },
     "output_type": "execute_result"
    }
   ],
   "source": [
    "df_2"
   ]
  },
  {
   "cell_type": "code",
   "execution_count": null,
   "metadata": {
    "colab": {
     "base_uri": "https://localhost:8080/"
    },
    "id": "BL1XDl0gSE9o",
    "outputId": "2ebbe8b9-ce68-41e6-ed23-9f6e2a425eb6"
   },
   "outputs": [
    {
     "data": {
      "text/plain": [
       "20"
      ]
     },
     "execution_count": 65,
     "metadata": {
      "tags": []
     },
     "output_type": "execute_result"
    }
   ],
   "source": [
    "df_2[\"class\"].nunique()"
   ]
  },
  {
   "cell_type": "markdown",
   "metadata": {
    "id": "mHxBRZ5fSE9t"
   },
   "source": [
    "# Traint test split of sentences"
   ]
  },
  {
   "cell_type": "code",
   "execution_count": null,
   "metadata": {
    "id": "vNNXUGrgSE9t"
   },
   "outputs": [],
   "source": [
    "X = df_2['x']\n",
    "y = df_2['class']"
   ]
  },
  {
   "cell_type": "code",
   "execution_count": null,
   "metadata": {
    "id": "HgpRmFd_SE9y"
   },
   "outputs": [],
   "source": [
    "# stop = stopwords.words('english')\n",
    "# df_2['x'].apply(lambda x: len([x for x in x.split() if x in stop]))"
   ]
  },
  {
   "cell_type": "code",
   "execution_count": null,
   "metadata": {
    "id": "hKj8OO4ISE92"
   },
   "outputs": [],
   "source": [
    "sentences_train, sentences_test, y_train, y_test = train_test_split(X, y, stratify=y, test_size=0.25)"
   ]
  },
  {
   "cell_type": "code",
   "execution_count": null,
   "metadata": {
    "colab": {
     "base_uri": "https://localhost:8080/"
    },
    "id": "9x87dE6oSE95",
    "outputId": "3dc1bc54-a74e-481f-9485-222636827bf4"
   },
   "outputs": [
    {
     "data": {
      "text/plain": [
       "((14121,), (4707,), (14121,), (4707,))"
      ]
     },
     "execution_count": 281,
     "metadata": {
      "tags": []
     },
     "output_type": "execute_result"
    }
   ],
   "source": [
    "sentences_train.shape, sentences_test.shape, y_train.shape, y_test.shape"
   ]
  },
  {
   "cell_type": "code",
   "execution_count": null,
   "metadata": {
    "id": "oc-Ktji8SE-A"
   },
   "outputs": [],
   "source": [
    "l = []\n",
    "for s in sentences_train:\n",
    "    l.append(len(s))"
   ]
  },
  {
   "cell_type": "code",
   "execution_count": null,
   "metadata": {
    "colab": {
     "base_uri": "https://localhost:8080/"
    },
    "id": "rJBIPhnCSE-D",
    "outputId": "bc25e29f-9ecb-40f3-f11a-f8d11c114f93"
   },
   "outputs": [
    {
     "data": {
      "text/plain": [
       "1068.7188584377877"
      ]
     },
     "execution_count": 283,
     "metadata": {
      "tags": []
     },
     "output_type": "execute_result"
    }
   ],
   "source": [
    "np.mean(l)"
   ]
  },
  {
   "cell_type": "markdown",
   "metadata": {
    "id": "nQgftVDgSE-J"
   },
   "source": [
    "# Text to Sequence"
   ]
  },
  {
   "cell_type": "code",
   "execution_count": null,
   "metadata": {
    "colab": {
     "base_uri": "https://localhost:8080/"
    },
    "id": "78i2ewEkSE-L",
    "outputId": "75a92550-b638-4bea-ab79-93568401ad05"
   },
   "outputs": [
    {
     "name": "stdout",
     "output_type": "stream",
     "text": [
      "train shape (14121, 909) \n",
      "test shape (4707, 909)\n"
     ]
    }
   ],
   "source": [
    "sentences = df_2['x'].to_numpy()\n",
    "\n",
    "tokenizer  = Tokenizer( num_words=None,\n",
    "    filters='!\"#$%&()*+,-./:;<=>?@[\\\\]^`{|}~\\t\\n',\n",
    "    lower=True,\n",
    "    split=' ',\n",
    "    char_level=False,\n",
    "    oov_token=None,\n",
    "    document_count=0)\n",
    "\n",
    "tokenizer.fit_on_texts(sentences_train)\n",
    "\n",
    "X_train = tokenizer.texts_to_sequences(sentences_train)\n",
    "X_test = tokenizer.texts_to_sequences(sentences_test)\n",
    "\n",
    "vocab_size = len(tokenizer.word_index) + 1\n",
    "maxlen = 909\n",
    "\n",
    "X_train = pad_sequences(X_train, padding='post', maxlen=maxlen)\n",
    "X_test = pad_sequences(X_test, padding='post', maxlen=maxlen)\n",
    "\n",
    "print(\"train shape {} \\ntest shape {}\".format(X_train.shape, X_test.shape))\n"
   ]
  },
  {
   "cell_type": "code",
   "execution_count": null,
   "metadata": {
    "id": "fmtQ4FwUTS_u"
   },
   "outputs": [],
   "source": [
    "y_train = y_train.to_numpy().reshape(-1, 1)\n",
    "y_test = y_test.to_numpy().reshape(-1, 1)"
   ]
  },
  {
   "cell_type": "code",
   "execution_count": null,
   "metadata": {
    "id": "KS4ZpCYmSwv7"
   },
   "outputs": [],
   "source": [
    "ohe = OneHotEncoder()\n",
    "y_train = ohe.fit_transform(y_train).toarray()\n",
    "y_test = ohe.transform(y_test).toarray()"
   ]
  },
  {
   "cell_type": "markdown",
   "metadata": {
    "id": "CMjQrD4mSE-P"
   },
   "source": [
    "# dictionary of all words and it's vector of 300 dimension"
   ]
  },
  {
   "cell_type": "code",
   "execution_count": null,
   "metadata": {
    "id": "_dpgErjGSE-Q"
   },
   "outputs": [],
   "source": [
    "embeddings_index = dict()\n",
    "\n",
    "word_embedding_50_path = '/content/gdrive/My Drive/Colab Notebooks/CNN on Text data/glove.6B.50d.txt'\n",
    "word_embedding_100_path = '/content/gdrive/My Drive/Colab Notebooks/CNN on Text data/glove.6B.100d.txt'\n",
    "word_embedding_200_path = '/content/gdrive/My Drive/Colab Notebooks/CNN on Text data/glove.6B.200d.txt'\n",
    "word_embedding_300_path = '/content/gdrive/My Drive/Colab Notebooks/CNN on Text data/glove.6B.300d.txt'\n",
    "\n",
    "f = open(word_embedding_300_path, encoding=\"utf8\")\n",
    "\n",
    "for line in f:\n",
    "    values = line.split()\n",
    "    word = values[0]\n",
    "    coefs = np.asarray(values[1:], dtype='float32')\n",
    "    embeddings_index[word] = coefs\n",
    "f.close()"
   ]
  },
  {
   "cell_type": "markdown",
   "metadata": {
    "id": "pa5qn3jaSE-T"
   },
   "source": [
    "# Embedded matrix"
   ]
  },
  {
   "cell_type": "code",
   "execution_count": null,
   "metadata": {
    "id": "a4974TIHSE-U"
   },
   "outputs": [],
   "source": [
    "embedding_matrix = np.zeros((vocab_size, 300))"
   ]
  },
  {
   "cell_type": "code",
   "execution_count": null,
   "metadata": {
    "colab": {
     "base_uri": "https://localhost:8080/"
    },
    "id": "d_d1oMVnSE-W",
    "outputId": "6b6fb6a0-b9a4-46f8-b081-3ce023e2723c"
   },
   "outputs": [
    {
     "data": {
      "text/plain": [
       "392549"
      ]
     },
     "execution_count": 292,
     "metadata": {
      "tags": []
     },
     "output_type": "execute_result"
    }
   ],
   "source": [
    "vocab_size"
   ]
  },
  {
   "cell_type": "code",
   "execution_count": null,
   "metadata": {
    "id": "ejuMGQvXSE-l"
   },
   "outputs": [],
   "source": [
    "for word, i in tokenizer.word_index.items():\n",
    "    embedding_vector = embeddings_index.get(word)\n",
    "    if embedding_vector is not None:\n",
    "        embedding_matrix[i] = embedding_vector"
   ]
  },
  {
   "cell_type": "code",
   "execution_count": null,
   "metadata": {
    "colab": {
     "base_uri": "https://localhost:8080/"
    },
    "id": "KgUailrXSE-q",
    "outputId": "c1c047b3-f9d9-4b75-a0f7-b0c18ba15f88"
   },
   "outputs": [
    {
     "data": {
      "text/plain": [
       "(392549, 300)"
      ]
     },
     "execution_count": 294,
     "metadata": {
      "tags": []
     },
     "output_type": "execute_result"
    }
   ],
   "source": [
    "embedding_matrix.shape"
   ]
  },
  {
   "cell_type": "code",
   "execution_count": null,
   "metadata": {
    "id": "qrHzK8xdSE-s"
   },
   "outputs": [],
   "source": [
    "embedding_dim = 300"
   ]
  },
  {
   "cell_type": "code",
   "execution_count": null,
   "metadata": {
    "colab": {
     "base_uri": "https://localhost:8080/"
    },
    "id": "9XDGl_X9SE-v",
    "outputId": "74cca3e9-1389-43fe-b543-fb2e6f86ee25"
   },
   "outputs": [
    {
     "data": {
      "text/plain": [
       "(909,)"
      ]
     },
     "execution_count": 296,
     "metadata": {
      "tags": []
     },
     "output_type": "execute_result"
    }
   ],
   "source": [
    "X_train[0].shape"
   ]
  },
  {
   "cell_type": "markdown",
   "metadata": {
    "id": "8DO5ugAISE-0"
   },
   "source": [
    "# Custom Callback"
   ]
  },
  {
   "cell_type": "code",
   "execution_count": null,
   "metadata": {
    "id": "jzyIT3qgSE-1"
   },
   "outputs": [],
   "source": [
    "from sklearn.metrics import f1_score\n",
    "\n",
    "\n",
    "class LossHistory(tf.keras.callbacks.Callback):\n",
    "    \n",
    "    def __init__(self, model_no):\n",
    "        self.val_acc_list = []\n",
    "        self.init_lr = 0.01\n",
    "    \n",
    "    def on_train_begin(self, logs={}):\n",
    "        self.history={'loss': [],'val_loss': []}\n",
    "        \n",
    "        \n",
    "    def on_epoch_end(self, epoch, logs={}):\n",
    "        ## on end of each epoch, we will get logs and update the self.history dict\n",
    "        y_pred_train_f1 = []\n",
    "        y_pred_test_f1 = []\n",
    "        y_pred_train_auc = []\n",
    "        y_pred_test_auc = []\n",
    "        \n",
    "        # ====================== LOSS RECORD===============================\n",
    "        self.history['val_loss'].append(logs.get('val_loss'))\n",
    "        self.history['loss'].append(logs.get('loss'))\n",
    "\n",
    "        if epoch > 2 :\n",
    "          loss_curr = self.history['val_loss'][epoch]\n",
    "          loss_prev = self.history['val_loss'][epoch-1]\n",
    "          \n",
    "          if loss_curr > loss_prev:\n",
    "            self.init_lr = self.init_lr * 0.53\n",
    "            K.set_value(self.model.optimizer.learning_rate, self.init_lr)\n",
    "\n",
    "\n",
    "        # ========================= PREDICTION\n",
    "        \n",
    "        y_train_pred = self.model.predict(X_train)\n",
    "        y_test_pred = self.model.predict(X_test)\n",
    "        \n",
    "        \n",
    "        y_train_pred_l = np.argmax(y_train_pred, axis=-1)\n",
    "        y_test_pred_l = np.argmax(y_test_pred, axis=-1)\n",
    "\n",
    "        y_train_l = np.argmax(y_train, axis=-1)\n",
    "        y_test_l = np.argmax(y_test, axis=-1)\n",
    "                \n",
    "                \n",
    "        # =========================== MICRO-F1 SCORE\n",
    "        \n",
    "        train_f1_score = f1_score(y_train_l, y_train_pred_l, average='micro')\n",
    "        print(\"train f1 score {}\".format(np.round(train_f1_score, 5)))\n",
    "        test_f1_score = f1_score(y_test_l, y_test_pred_l, average='micro')\n",
    "        print(\"test f1 score {}\".format(np.round(test_f1_score, 5)))\n",
    "    \n",
    "\n",
    "        \n",
    "        \n",
    "        \n",
    "        \n",
    "        "
   ]
  },
  {
   "cell_type": "markdown",
   "metadata": {
    "id": "DLdQokJDSE-4"
   },
   "source": [
    "# Creating Model"
   ]
  },
  {
   "cell_type": "code",
   "execution_count": null,
   "metadata": {
    "colab": {
     "base_uri": "https://localhost:8080/"
    },
    "id": "WawHBp_iSE-4",
    "outputId": "8aaa1992-6ba1-48e5-83a0-293abba2af9f"
   },
   "outputs": [
    {
     "name": "stdout",
     "output_type": "stream",
     "text": [
      "WARNING:tensorflow:`write_grads` will be ignored in TensorFlow 2.0 for the `TensorBoard` Callback.\n"
     ]
    }
   ],
   "source": [
    "tf.keras.backend.clear_session()\n",
    "\n",
    "input_layer = Input(shape=(909,))\n",
    "\n",
    "# Embedding layer\n",
    "embedding_layer = Embedding(vocab_size, embedding_dim, weights=[embedding_matrix], input_length=maxlen, trainable=False)(input_layer)\n",
    "\n",
    "# conv1D - kernel_size = 2\n",
    "conv1D_1 = Conv1D(filters=16, kernel_size=2, activation='relu', kernel_initializer='he_normal') (embedding_layer)\n",
    "\n",
    "# conv1D - kernel_size = 3\n",
    "conv1D_2 = Conv1D(filters=16, kernel_size=3, activation='relu', kernel_initializer='he_normal') (embedding_layer)\n",
    "\n",
    "# conv1D - kernel_size = 4\n",
    "conv1D_3 = Conv1D(filters=16, kernel_size=4, activation='relu', kernel_initializer='he_normal') (embedding_layer)\n",
    "\n",
    "# concatination\n",
    "concat_1  = concatenate([conv1D_1, conv1D_2, conv1D_3], axis=1)\n",
    "\n",
    "# maxpool 1D\n",
    "Max_pool_1 = MaxPool1D(pool_size=2, strides=1 ,padding='valid', name='Pool1')(concat_1)\n",
    "\n",
    "\n",
    "# conv1D - kernel_size = 5\n",
    "conv1D_4 = Conv1D(filters=8, kernel_size=5, activation='relu', kernel_initializer='he_normal') (Max_pool_1)\n",
    "\n",
    "# conv1D - kernel_size = 6\n",
    "conv1D_5 = Conv1D(filters=8, kernel_size=6, activation='relu', kernel_initializer='he_normal') (Max_pool_1)\n",
    "\n",
    "# conv1D - kernel_size = 7\n",
    "conv1D_6 = Conv1D(filters=8, kernel_size=7, activation='relu', kernel_initializer='he_normal') (Max_pool_1)\n",
    "\n",
    "# concatination\n",
    "concat_2  = concatenate([conv1D_4, conv1D_5, conv1D_6], axis=1)\n",
    "\n",
    "# maxpool 1D\n",
    "Max_pool_2 = MaxPool1D(pool_size=2, strides=1 ,padding='valid', name='Pool2')(concat_2)\n",
    "\n",
    "# conv1D - p = 11\n",
    "conv1D_7 = Conv1D(filters=4, kernel_size=9, activation='relu', kernel_initializer='he_normal') (Max_pool_2)\n",
    "\n",
    "# flatten\n",
    "flatten_1 = Flatten()(conv1D_7)\n",
    "\n",
    "# drop out\n",
    "dropout1 = Dropout(0.2) (flatten_1)\n",
    "\n",
    "# dense\n",
    "Dense_1 = Dense(4, activation='relu', name='Dense_1', kernel_initializer='he_normal')(dropout1)\n",
    "\n",
    "# output\n",
    "output_layer = Dense(20, activation='softmax', name=\"Output\")(Dense_1)\n",
    "\n",
    "model = Model(inputs=input_layer, outputs=output_layer)\n",
    "\n",
    "\n",
    "callback = LossHistory(1)\n",
    "\n",
    "stop_early = tf.keras.callbacks.EarlyStopping(monitor='val_loss', mode='min', patience=5,)\n",
    "\n",
    "log_dir=\"/content/gdrive/My Drive/Colab Notebooks/CNN on Text data/logs/fit/model_1__\" + datetime.datetime.now().strftime(\"%Y%m%d-%H%M%S\")\n",
    "tensorboard_callback = tf.keras.callbacks.TensorBoard(log_dir=log_dir, histogram_freq=1, write_graph=True, write_grads=True)\n",
    "\n",
    "\n",
    "optim = tf.keras.optimizers.Adam(learning_rate=0.01)\n",
    "\n",
    "model.compile(optimizer=optim,\n",
    "              loss='categorical_crossentropy',\n",
    "              metrics=[None])\n",
    "\n",
    "\n",
    "\n"
   ]
  },
  {
   "cell_type": "code",
   "execution_count": null,
   "metadata": {
    "colab": {
     "base_uri": "https://localhost:8080/"
    },
    "id": "mpu-icjkSE-6",
    "outputId": "e9f0e7e5-1746-4c00-9bc5-4c25fbd94555"
   },
   "outputs": [
    {
     "name": "stdout",
     "output_type": "stream",
     "text": [
      "Model: \"model\"\n",
      "__________________________________________________________________________________________________\n",
      "Layer (type)                    Output Shape         Param #     Connected to                     \n",
      "==================================================================================================\n",
      "input_1 (InputLayer)            [(None, 909)]        0                                            \n",
      "__________________________________________________________________________________________________\n",
      "embedding (Embedding)           (None, 909, 300)     117764700   input_1[0][0]                    \n",
      "__________________________________________________________________________________________________\n",
      "conv1d (Conv1D)                 (None, 908, 16)      9616        embedding[0][0]                  \n",
      "__________________________________________________________________________________________________\n",
      "conv1d_1 (Conv1D)               (None, 907, 16)      14416       embedding[0][0]                  \n",
      "__________________________________________________________________________________________________\n",
      "conv1d_2 (Conv1D)               (None, 906, 16)      19216       embedding[0][0]                  \n",
      "__________________________________________________________________________________________________\n",
      "concatenate (Concatenate)       (None, 2721, 16)     0           conv1d[0][0]                     \n",
      "                                                                 conv1d_1[0][0]                   \n",
      "                                                                 conv1d_2[0][0]                   \n",
      "__________________________________________________________________________________________________\n",
      "Pool1 (MaxPooling1D)            (None, 2720, 16)     0           concatenate[0][0]                \n",
      "__________________________________________________________________________________________________\n",
      "conv1d_3 (Conv1D)               (None, 2716, 8)      648         Pool1[0][0]                      \n",
      "__________________________________________________________________________________________________\n",
      "conv1d_4 (Conv1D)               (None, 2715, 8)      776         Pool1[0][0]                      \n",
      "__________________________________________________________________________________________________\n",
      "conv1d_5 (Conv1D)               (None, 2714, 8)      904         Pool1[0][0]                      \n",
      "__________________________________________________________________________________________________\n",
      "concatenate_1 (Concatenate)     (None, 8145, 8)      0           conv1d_3[0][0]                   \n",
      "                                                                 conv1d_4[0][0]                   \n",
      "                                                                 conv1d_5[0][0]                   \n",
      "__________________________________________________________________________________________________\n",
      "Pool2 (MaxPooling1D)            (None, 8144, 8)      0           concatenate_1[0][0]              \n",
      "__________________________________________________________________________________________________\n",
      "conv1d_6 (Conv1D)               (None, 8136, 4)      292         Pool2[0][0]                      \n",
      "__________________________________________________________________________________________________\n",
      "flatten (Flatten)               (None, 32544)        0           conv1d_6[0][0]                   \n",
      "__________________________________________________________________________________________________\n",
      "dropout (Dropout)               (None, 32544)        0           flatten[0][0]                    \n",
      "__________________________________________________________________________________________________\n",
      "Dense_1 (Dense)                 (None, 4)            130180      dropout[0][0]                    \n",
      "__________________________________________________________________________________________________\n",
      "Output (Dense)                  (None, 20)           100         Dense_1[0][0]                    \n",
      "==================================================================================================\n",
      "Total params: 117,940,848\n",
      "Trainable params: 176,148\n",
      "Non-trainable params: 117,764,700\n",
      "__________________________________________________________________________________________________\n"
     ]
    }
   ],
   "source": [
    "model.summary()"
   ]
  },
  {
   "cell_type": "code",
   "execution_count": null,
   "metadata": {
    "colab": {
     "base_uri": "https://localhost:8080/",
     "height": 1000
    },
    "id": "iYHtpu0sSE-8",
    "outputId": "5a9964ba-6955-4bdf-c098-1167518d9f59"
   },
   "outputs": [
    {
     "data": {
      "image/png": "[encoded data removed]",
      "text/plain": [
       "<IPython.core.display.Image object>"
      ]
     },
     "execution_count": 373,
     "metadata": {
      "tags": []
     },
     "output_type": "execute_result"
    }
   ],
   "source": [
    "plot_model(model, to_file='/content/gdrive/My Drive/Colab Notebooks/CNN on Text data/convolutional_neural_network_word_embedding.png')"
   ]
  },
  {
   "cell_type": "code",
   "execution_count": null,
   "metadata": {
    "colab": {
     "base_uri": "https://localhost:8080/"
    },
    "id": "amrmOOJySE-_",
    "outputId": "97b0f310-3f7e-4ccf-db3b-e1fb724559b6"
   },
   "outputs": [
    {
     "name": "stdout",
     "output_type": "stream",
     "text": [
      "Epoch 1/50\n",
      " 6/71 [=>............................] - ETA: 17s - loss: 3.3428WARNING:tensorflow:Callback method `on_train_batch_end` is slow compared to the batch time (batch time: 0.0759s vs `on_train_batch_end` time: 0.1055s). Check your callbacks.\n",
      "71/71 [==============================] - 12s 150ms/step - loss: 3.0704 - val_loss: 2.9409\n",
      "train f1 score 0.08675\n",
      "test f1 score 0.0854\n",
      "Epoch 2/50\n",
      "71/71 [==============================] - 10s 137ms/step - loss: 2.8786 - val_loss: 2.5453\n",
      "train f1 score 0.11692\n",
      "test f1 score 0.11557\n",
      "Epoch 3/50\n",
      "71/71 [==============================] - 10s 136ms/step - loss: 2.4706 - val_loss: 2.3421\n",
      "train f1 score 0.16868\n",
      "test f1 score 0.15764\n",
      "Epoch 4/50\n",
      "71/71 [==============================] - 10s 135ms/step - loss: 2.2671 - val_loss: 2.2470\n",
      "train f1 score 0.22045\n",
      "test f1 score 0.20076\n",
      "Epoch 5/50\n",
      "71/71 [==============================] - 10s 135ms/step - loss: 2.1293 - val_loss: 2.2545\n",
      "train f1 score 0.25579\n",
      "test f1 score 0.22881\n",
      "Epoch 6/50\n",
      "71/71 [==============================] - 10s 136ms/step - loss: 2.0373 - val_loss: 2.1672\n",
      "train f1 score 0.29113\n",
      "test f1 score 0.25366\n",
      "Epoch 7/50\n",
      "71/71 [==============================] - 10s 134ms/step - loss: 1.9414 - val_loss: 2.1602\n",
      "train f1 score 0.30593\n",
      "test f1 score 0.26068\n",
      "Epoch 8/50\n",
      "71/71 [==============================] - 10s 135ms/step - loss: 1.8638 - val_loss: 2.1300\n",
      "train f1 score 0.32264\n",
      "test f1 score 0.27279\n",
      "Epoch 9/50\n",
      "71/71 [==============================] - 10s 135ms/step - loss: 1.7737 - val_loss: 1.9124\n",
      "train f1 score 0.40564\n",
      "test f1 score 0.34077\n",
      "Epoch 10/50\n",
      "71/71 [==============================] - 10s 135ms/step - loss: 1.5793 - val_loss: 1.8291\n",
      "train f1 score 0.47907\n",
      "test f1 score 0.39558\n",
      "Epoch 11/50\n",
      "71/71 [==============================] - 10s 135ms/step - loss: 1.4207 - val_loss: 1.7771\n",
      "train f1 score 0.50237\n",
      "test f1 score 0.40493\n",
      "Epoch 12/50\n",
      "71/71 [==============================] - 10s 135ms/step - loss: 1.3563 - val_loss: 1.8170\n",
      "train f1 score 0.5438\n",
      "test f1 score 0.41151\n",
      "Epoch 13/50\n",
      "71/71 [==============================] - 10s 135ms/step - loss: 1.2106 - val_loss: 1.7882\n",
      "train f1 score 0.60711\n",
      "test f1 score 0.43616\n",
      "Epoch 14/50\n",
      "71/71 [==============================] - 10s 135ms/step - loss: 1.1272 - val_loss: 1.8413\n",
      "train f1 score 0.64478\n",
      "test f1 score 0.46272\n",
      "Epoch 15/50\n",
      "71/71 [==============================] - 10s 135ms/step - loss: 1.0323 - val_loss: 1.9464\n",
      "train f1 score 0.6598\n",
      "test f1 score 0.45847\n",
      "Epoch 16/50\n",
      "71/71 [==============================] - 10s 136ms/step - loss: 0.9856 - val_loss: 1.9482\n",
      "train f1 score 0.68451\n",
      "test f1 score 0.46866\n"
     ]
    }
   ],
   "source": [
    "history = model.fit(X_train, y_train,\n",
    "                    epochs=50,\n",
    "                    verbose=True,\n",
    "                    validation_data=(X_test, y_test),\n",
    "                    batch_size=200, callbacks=[callback, tensorboard_callback, stop_early])"
   ]
  },
  {
   "cell_type": "code",
   "execution_count": null,
   "metadata": {
    "colab": {
     "base_uri": "https://localhost:8080/",
     "height": 295
    },
    "id": "X-ZojvKxSE_C",
    "outputId": "db9e618f-5a62-48a9-d43e-60985cc3564f"
   },
   "outputs": [
    {
     "data": {
      "image/png": "[encoded data removed]",
      "text/plain": [
       "<Figure size 432x288 with 1 Axes>"
      ]
     },
     "metadata": {
      "needs_background": "light",
      "tags": []
     },
     "output_type": "display_data"
    }
   ],
   "source": [
    "plt.plot(history.history['loss'])\n",
    "plt.plot(history.history['val_loss'])\n",
    "plt.title('model loss')\n",
    "plt.ylabel('loss')\n",
    "plt.xlabel('epoch')\n",
    "plt.legend(['train', 'test'], loc='upper left')\n",
    "plt.show()"
   ]
  },
  {
   "cell_type": "code",
   "execution_count": null,
   "metadata": {
    "colab": {
     "base_uri": "https://localhost:8080/",
     "height": 312
    },
    "id": "Fz5GFIZ4SE_I",
    "outputId": "41e4e9d7-be53-441e-f345-fabde07fc056"
   },
   "outputs": [
    {
     "data": {
      "text/plain": [
       "ERROR: Failed to launch TensorBoard (exited with 2).\n",
       "Contents of stderr:\n",
       "2021-04-21 14:08:28.740676: I tensorflow/stream_executor/platform/default/dso_loader.cc:49] Successfully opened dynamic library libcudart.so.11.0\n",
       "usage: tensorboard [-h] [--helpfull] [--logdir PATH] [--logdir_spec PATH_SPEC]\n",
       "                   [--host ADDR] [--bind_all] [--port PORT]\n",
       "                   [--purge_orphaned_data BOOL] [--db URI] [--db_import]\n",
       "                   [--inspect] [--version_tb] [--tag TAG] [--event_file PATH]\n",
       "                   [--path_prefix PATH] [--window_title TEXT]\n",
       "                   [--max_reload_threads COUNT] [--reload_interval SECONDS]\n",
       "                   [--reload_task TYPE] [--reload_multifile BOOL]\n",
       "                   [--reload_multifile_inactive_secs SECONDS]\n",
       "                   [--generic_data TYPE]\n",
       "                   [--samples_per_plugin SAMPLES_PER_PLUGIN]\n",
       "                   [--whatif-use-unsafe-custom-prediction YOUR_CUSTOM_PREDICT_FUNCTION.py]\n",
       "                   [--whatif-data-dir PATH]\n",
       "                   {serve,dev} ...\n",
       "tensorboard: error: invalid choice: 'Drive/Colab' (choose from 'serve', 'dev')"
      ]
     },
     "metadata": {
      "tags": []
     },
     "output_type": "display_data"
    }
   ],
   "source": [
    "%tensorboard --logdir /content/gdrive/My Drive/Colab Notebooks/CNN on Text data/logs/fit"
   ]
  }
 ],
 "metadata": {
  "accelerator": "GPU",
  "colab": {
   "collapsed_sections": [
    "fyobKUjMSE7z",
    "UDpnafHVSE8I",
    "y7ZGBxEgSE8R",
    "hhWcopICSE8a",
    "syF8pgbMSE8i",
    "FJe0s77TSE8n",
    "BY-N7z4vSE88",
    "sU4DPwdaSE9V",
    "mHxBRZ5fSE9t",
    "nQgftVDgSE-J",
    "CMjQrD4mSE-P",
    "pa5qn3jaSE-T",
    "8DO5ugAISE-0",
    "DLdQokJDSE-4"
   ],
   "name": "text_classification_cnn_test.ipynb",
   "provenance": [],
   "toc_visible": true
  },
  "kernelspec": {
   "display_name": "Python 3",
   "language": "python",
   "name": "python3"
  },
  "language_info": {
   "codemirror_mode": {
    "name": "ipython",
    "version": 3
   },
   "file_extension": ".py",
   "mimetype": "text/x-python",
   "name": "python",
   "nbconvert_exporter": "python",
   "pygments_lexer": "ipython3",
   "version": "3.8.5"
  }
 },
 "nbformat": 4,
 "nbformat_minor": 1
}
